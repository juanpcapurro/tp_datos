{
 "cells": [
  {
   "cell_type": "code",
   "execution_count": 23,
   "metadata": {},
   "outputs": [
    {
     "data": {
      "text/html": [
       "<style>.container { width:100% !important; }</style>"
      ],
      "text/plain": [
       "<IPython.core.display.HTML object>"
      ]
     },
     "metadata": {},
     "output_type": "display_data"
    }
   ],
   "source": [
    "import matplotlib.pyplot as plt\n",
    "import numpy as np\n",
    "import seaborn as sbn\n",
    "import pandas as pd\n",
    "import datetime\n",
    "import time\n",
    "from pandas.api.types import CategoricalDtype\n",
    "\n",
    "%matplotlib inline\n",
    "from IPython.core.display import display, HTML\n",
    "display(HTML(\"<style>.container { width:100% !important; }</style>\"))\n",
    "plt.style.use('default') \n",
    "sbn.set(style=\"whitegrid\") "
   ]
  },
  {
   "cell_type": "markdown",
   "metadata": {},
   "source": [
    "# **Apertura de archivos a usar durante la resolucion del trabajo practico.**"
   ]
  },
  {
   "cell_type": "code",
   "execution_count": 43,
   "metadata": {},
   "outputs": [],
   "source": [
    "#Antes que nada, me intriga si los archivos de 'datos_navent' y los de 'hasta15/4' tienen overlap, son redundantes o consecutivos\n",
    "genero_edad_navent = pd.read_csv('datos/datos_navent/fiuba_2_postulantes_genero_y_edad.csv')\n",
    "genero_edad_hasta_15_4 = pd.read_csv('datos/hasta_15_4/fiuba_2_postulantes_genero_y_edad.csv')\n",
    "genero_edad_desde_15_4 = pd.read_csv('datos/desde_15_4/fiuba_2_postulantes_genero_y_edad.csv')\n",
    "genero_edad_postulantes = genero_edad_navent.merge(genero_edad_hasta_15_4, on=['idpostulante','fechanacimiento','sexo'], how='outer')\n",
    "genero_edad_postulantes = genero_edad_postulantes.merge(genero_edad_desde_15_4, on=['idpostulante','fechanacimiento','sexo'], how='outer')\n",
    "#genero_edad_postulantes['fechanacimiento'] = genero_edad_postulantes['fechanacimiento'].map(datetime.timestamp)"
   ]
  },
  {
   "cell_type": "code",
   "execution_count": 48,
   "metadata": {},
   "outputs": [
    {
     "name": "stdout",
     "output_type": "stream",
     "text": [
      "tamaño archivo navent 602664\n",
      "tamaño archivo hasta_15_4 893241\n",
      "tamaño archivo desde_15_4 844155\n",
      "tamaño archivo merge postulantes 1516146\n",
      "1976-02-28 00:00:00\n",
      "1976-02-28\n",
      "       idpostulante fechanacimiento    sexo\n",
      "count        505382          478699  505382\n",
      "unique       504407           17249       4\n",
      "top          EqeeNN      1991-12-19     FEM\n",
      "freq              3             106  251431\n",
      "FEM           251431\n",
      "MASC          228008\n",
      "NO_DECLARA     25936\n",
      "0.0                7\n",
      "Name: sexo, dtype: int64\n",
      "<class 'type'>\n"
     ]
    }
   ],
   "source": [
    "print(\"tamaño archivo navent {}\".format(genero_edad_navent.size))\n",
    "print(\"tamaño archivo hasta_15_4 {}\".format(genero_edad_hasta_15_4.size))\n",
    "print(\"tamaño archivo desde_15_4 {}\".format(genero_edad_desde_15_4.size))\n",
    "print(\"tamaño archivo merge postulantes {}\".format(genero_edad_postulantes.size))\n",
    "def postulantes_str2timestamp(s): # debo\n",
    "    try:\n",
    "        return datetime.datetime.strptime(s, '%Y-%m-%d')\n",
    "    except:\n",
    "        return None\n",
    "print(str2timestamp(genero_edad_postulantes['fechanacimiento'][8]))\n",
    "print(genero_edad_postulantes['fechanacimiento'][8])\n",
    "\n",
    "print (genero_edad_postulantes.describe()) #veo que hay repetidos por id\n",
    "print (genero_edad_postulantes['sexo'].value_counts()) #veo que hay gente (4) con sexo '0'\n",
    "genero_edad_postulantes.dtypes\n",
    "print(type(str2timestamp(genero_edad_postulantes['fechanacimiento'][4])))"
   ]
  },
  {
   "cell_type": "code",
   "execution_count": 40,
   "metadata": {},
   "outputs": [
    {
     "data": {
      "text/html": [
       "<div>\n",
       "<style scoped>\n",
       "    .dataframe tbody tr th:only-of-type {\n",
       "        vertical-align: middle;\n",
       "    }\n",
       "\n",
       "    .dataframe tbody tr th {\n",
       "        vertical-align: top;\n",
       "    }\n",
       "\n",
       "    .dataframe thead th {\n",
       "        text-align: right;\n",
       "    }\n",
       "</style>\n",
       "<table border=\"1\" class=\"dataframe\">\n",
       "  <thead>\n",
       "    <tr style=\"text-align: right;\">\n",
       "      <th></th>\n",
       "      <th>idpostulante</th>\n",
       "      <th>fechanacimiento</th>\n",
       "      <th>sexo</th>\n",
       "    </tr>\n",
       "  </thead>\n",
       "  <tbody>\n",
       "    <tr>\n",
       "      <th>count</th>\n",
       "      <td>504407</td>\n",
       "      <td>0.0</td>\n",
       "      <td>504400</td>\n",
       "    </tr>\n",
       "    <tr>\n",
       "      <th>unique</th>\n",
       "      <td>504407</td>\n",
       "      <td>0.0</td>\n",
       "      <td>3</td>\n",
       "    </tr>\n",
       "    <tr>\n",
       "      <th>top</th>\n",
       "      <td>0zLJG2r</td>\n",
       "      <td>NaN</td>\n",
       "      <td>FEM</td>\n",
       "    </tr>\n",
       "    <tr>\n",
       "      <th>freq</th>\n",
       "      <td>1</td>\n",
       "      <td>NaN</td>\n",
       "      <td>250875</td>\n",
       "    </tr>\n",
       "  </tbody>\n",
       "</table>\n",
       "</div>"
      ],
      "text/plain": [
       "       idpostulante  fechanacimiento    sexo\n",
       "count        504407              0.0  504400\n",
       "unique       504407              0.0       3\n",
       "top         0zLJG2r              NaN     FEM\n",
       "freq              1              NaN  250875"
      ]
     },
     "execution_count": 40,
     "metadata": {},
     "output_type": "execute_result"
    }
   ],
   "source": [
    "# Genero una funcion para satinizar archivos de postulantes_genero_edad\n",
    "genero_categoria = CategoricalDtype(categories=[\"MASC\",\"FEM\",\"NO_DECLARA\"], ordered=False)\n",
    "def satinize_postulante_genero_edad(df):\n",
    "    df['sexo'] = df['sexo'].astype(genero_categoria).dropna()\n",
    "    df = df.drop_duplicates(subset='idpostulante')\n",
    "    df['fechanacimiento']= df['fechanacimiento'].map(postulantes_str2timestamp)\n",
    "    return df\n",
    "genero_edad_postulantes = satinize_postulante_genero_edad(genero_edad_postulantes)\n",
    "genero_edad_postulantes.head()\n",
    "genero_edad_postulantes.describe()"
   ]
  },
  {
   "cell_type": "code",
   "execution_count": 39,
   "metadata": {},
   "outputs": [
    {
     "data": {
      "text/plain": [
       "106"
      ]
     },
     "execution_count": 39,
     "metadata": {},
     "output_type": "execute_result"
    }
   ],
   "source": [
    "genero_edad_postulantes"
   ]
  },
  {
   "cell_type": "code",
   "execution_count": null,
   "metadata": {},
   "outputs": [],
   "source": [
    "postulaciones_educacion = pd.read_csv('fiuba_1_postulantes_educacion.csv')\n",
    "postulaciones_genero_edad = pd.read_csv('fiuba_2_postulantes_genero_y_edad.csv')\n",
    "vistas = pd.read_csv('fiuba_3_vistas.csv')\n",
    "postulaciones = pd.read_csv('fiuba_4_postulaciones.csv')\n",
    "avisos_online = pd.read_csv('fiuba_5_avisos_online.csv')\n",
    "avisos_detalle = pd.read_csv('fiuba_6_avisos_detalle.csv')"
   ]
  },
  {
   "cell_type": "markdown",
   "metadata": {},
   "source": [
    "# Preparando los datos para el analisis"
   ]
  },
  {
   "cell_type": "markdown",
   "metadata": {},
   "source": [
    "## Archivo 'postulaciones'"
   ]
  },
  {
   "cell_type": "code",
   "execution_count": null,
   "metadata": {},
   "outputs": [],
   "source": [
    "postulaciones.isnull().any()"
   ]
  },
  {
   "cell_type": "code",
   "execution_count": null,
   "metadata": {},
   "outputs": [],
   "source": [
    "#Creo columnas para poder utilizar la fecha y el horario mas comodamente, en el archivo de Postulaciones\n",
    "postulaciones['date'] = pd.to_datetime(postulaciones['fechapostulacion']).dt.date\n",
    "postulaciones['time'] = pd.to_datetime(postulaciones['fechapostulacion']).dt.time\n",
    "postulaciones.head()"
   ]
  },
  {
   "cell_type": "code",
   "execution_count": null,
   "metadata": {},
   "outputs": [],
   "source": [
    "print(postulaciones.info())"
   ]
  },
  {
   "cell_type": "code",
   "execution_count": null,
   "metadata": {},
   "outputs": [],
   "source": [
    "#Veo si hay filas duplicadas con los mismos valores en todas las columnas\n",
    "postulaciones.duplicated().any()"
   ]
  },
  {
   "cell_type": "markdown",
   "metadata": {},
   "source": [
    "## Archivo 'avisos_detalle'"
   ]
  },
  {
   "cell_type": "code",
   "execution_count": null,
   "metadata": {},
   "outputs": [],
   "source": [
    "avisos_detalle.isnull().any()"
   ]
  },
  {
   "cell_type": "code",
   "execution_count": null,
   "metadata": {},
   "outputs": [],
   "source": [
    "#ESTE DF TIENE DATOS NULOS EN LAS COLUMNAS DE 'CIUDAD', 'MAPACALLE' Y 'DENOMINACION_EMPRESA'. \n",
    "#Decidimos eliminarlas ya que no nos parecieron muy relevantes para el analisis\n",
    "avisos_detalle.drop(['ciudad','mapacalle','denominacion_empresa','descripcion'],1,inplace=True)\n",
    "#avisos_detalle.drop('descripcion',1,inplace=True)"
   ]
  },
  {
   "cell_type": "code",
   "execution_count": null,
   "metadata": {},
   "outputs": [],
   "source": [
    "#Asi quedaria finalmente el archivo 'avisos_detalle' para el analisis\n",
    "avisos_detalle.head()"
   ]
  },
  {
   "cell_type": "markdown",
   "metadata": {},
   "source": [
    "## Archivo 'postulaciones_genero_edad'"
   ]
  },
  {
   "cell_type": "code",
   "execution_count": null,
   "metadata": {},
   "outputs": [],
   "source": [
    "postulaciones_genero_edad.isnull().any()"
   ]
  },
  {
   "cell_type": "code",
   "execution_count": null,
   "metadata": {
    "scrolled": true
   },
   "outputs": [],
   "source": [
    "# Parece ser que es una proporción importante de las postulaciones\n",
    "# las que no incluyen fecha de nacimiento\n",
    "postulaciones_genero_edad['fechanacimiento'].isnull().sum()"
   ]
  },
  {
   "cell_type": "code",
   "execution_count": null,
   "metadata": {},
   "outputs": [],
   "source": [
    "#Veo si hay filas duplicadas con los mismos valores en todas las columnas\n",
    "postulaciones_genero_edad.duplicated().any()"
   ]
  },
  {
   "cell_type": "code",
   "execution_count": null,
   "metadata": {},
   "outputs": [],
   "source": [
    "#Veo si hay usuarios duplicados\n",
    "postulaciones_genero_edad['idpostulante'].duplicated().any()"
   ]
  },
  {
   "cell_type": "code",
   "execution_count": null,
   "metadata": {},
   "outputs": [],
   "source": [
    "#En primer instancia le asignamos el año actual, para poder comenzar con el analisis.\n",
    "postulaciones_genero_edad = postulaciones_genero_edad.fillna(2018-1-1)\n",
    "postulaciones_genero_edad.isnull().any()"
   ]
  },
  {
   "cell_type": "markdown",
   "metadata": {},
   "source": [
    "## Archivo 'postulaciones_educacion'"
   ]
  },
  {
   "cell_type": "code",
   "execution_count": null,
   "metadata": {},
   "outputs": [],
   "source": [
    "postulaciones_educacion.head()"
   ]
  },
  {
   "cell_type": "code",
   "execution_count": null,
   "metadata": {},
   "outputs": [],
   "source": [
    "#Veo si hay filas de datos duplicados\n",
    "postulaciones_educacion.isnull().any()"
   ]
  },
  {
   "cell_type": "code",
   "execution_count": null,
   "metadata": {},
   "outputs": [],
   "source": [
    "# Hay ids de postulantes duplicados, lo que es consistente con que un postulante tenga en su perfil\n",
    "# por ejemplo, un estudio universitario en curso y un estudio secundario completo\n",
    "postulaciones_educacion.duplicated(subset = 'idpostulante').any()"
   ]
  },
  {
   "cell_type": "markdown",
   "metadata": {},
   "source": [
    "## Archivo 'vistas'"
   ]
  },
  {
   "cell_type": "code",
   "execution_count": null,
   "metadata": {},
   "outputs": [],
   "source": [
    "vistas.head()\n",
    "# Plantea la relación entre postulantes y avisos"
   ]
  },
  {
   "cell_type": "code",
   "execution_count": null,
   "metadata": {},
   "outputs": [],
   "source": [
    "vistas.isnull().any()"
   ]
  },
  {
   "cell_type": "code",
   "execution_count": null,
   "metadata": {},
   "outputs": [],
   "source": [
    "vistas.duplicated().any()"
   ]
  },
  {
   "cell_type": "markdown",
   "metadata": {},
   "source": [
    "## Arichivo 'avisos_online'"
   ]
  },
  {
   "cell_type": "code",
   "execution_count": null,
   "metadata": {},
   "outputs": [],
   "source": [
    "avisos_online.isnull().any()"
   ]
  },
  {
   "cell_type": "code",
   "execution_count": null,
   "metadata": {},
   "outputs": [],
   "source": [
    "avisos_online.duplicated().any()"
   ]
  },
  {
   "cell_type": "markdown",
   "metadata": {},
   "source": [
    "# Algunas exploraciones de cada archivo por separado"
   ]
  },
  {
   "cell_type": "code",
   "execution_count": null,
   "metadata": {},
   "outputs": [],
   "source": [
    "#Distribución de las postulaciones por dia del mes\n",
    "g_day = pd.to_datetime(postulaciones['date']).dt.day.hist(bins=31,edgecolor='black');\n",
    "g_day.set_title('Disitribucion de las postulaciones por día del mes',fontsize=15)\n",
    "g_day.set_xlabel('Dia')\n",
    "g_day.set_ylabel('Cantidad de postulaciones');"
   ]
  },
  {
   "cell_type": "code",
   "execution_count": null,
   "metadata": {},
   "outputs": [],
   "source": [
    "# ¿Será que uno se pone a buscar trabajo cuando se le empieza a acabar el sueldo?\n",
    "g_day = pd.to_datetime(postulaciones['date']).dt.day.hist(bins=4,edgecolor='black');"
   ]
  },
  {
   "cell_type": "code",
   "execution_count": null,
   "metadata": {},
   "outputs": [],
   "source": [
    "enero = postulaciones['date'][pd.to_datetime(postulaciones['date']).dt.month == 1]\n",
    "enero = pd.DataFrame(enero)\n",
    "\n",
    "febrero = postulaciones['date'][pd.to_datetime(postulaciones['date']).dt.month == 2]\n",
    "febrero = pd.DataFrame(febrero)\n",
    "\n",
    "sizes = [enero.count(),febrero.count()]\n",
    "names = ['Enero', 'Febrero']\n",
    "\n",
    "plt.figure(figsize=(3, 3))\n",
    "plt.title('Distribucion de las postulaciones por mes', fontsize=15)\n",
    "plt.pie(sizes, labels=names, autopct='%1.1f%%', startangle=90, colors=['green', 'lightblue'], explode=(0.1, 0),shadow=True)\n",
    "plt.show()"
   ]
  },
  {
   "cell_type": "code",
   "execution_count": null,
   "metadata": {},
   "outputs": [],
   "source": [
    "# ¡Los datos empiezan a partir del 15/1!\n",
    "postulaciones['date'].min()"
   ]
  },
  {
   "cell_type": "markdown",
   "metadata": {},
   "source": [
    "Ambos graficos son engañosos.\n",
    "El primero muestra que hay mas postulaciones en la segunda mitad de los meses pero eso es porque los datos de Enero son solo de la segunda mitad del mes.\n",
    "De igual manera el sugundo grafico muestra que Enero tiene practicamente la mitad de postulaciones que Febrero.\n",
    "Tambien se debe a lo comentado anteriormente, solo hay datos de la segunda mitad de Enero."
   ]
  },
  {
   "cell_type": "code",
   "execution_count": null,
   "metadata": {},
   "outputs": [],
   "source": [
    "#Febrero tiene (casi)los dias completos\n",
    "febrero = postulaciones['date'][pd.to_datetime(postulaciones['date']).dt.month == 2]\n",
    "febrero = pd.DataFrame(febrero.unique()).sort_values(by=0, ascending=False)\n",
    "febrero"
   ]
  },
  {
   "cell_type": "code",
   "execution_count": null,
   "metadata": {},
   "outputs": [],
   "source": [
    "g_month_enero = pd.to_datetime(postulaciones['date'][pd.to_datetime(postulaciones['date']).dt.month == 1]).dt.day.hist(bins=17,edgecolor='black');\n",
    "g_month_enero.set_title('Distribucion de postulaciones durante Enero',fontsize=15)\n",
    "g_month_enero.set_xlabel('Dias')\n",
    "g_month_enero.set_ylabel('Cantidad de postulaciones');"
   ]
  },
  {
   "cell_type": "code",
   "execution_count": null,
   "metadata": {},
   "outputs": [],
   "source": [
    "g_month_febrero = pd.to_datetime(postulaciones['date'][pd.to_datetime(postulaciones['date']).dt.month == 2]).dt.day.hist(bins=28,edgecolor='black');\n",
    "g_month_febrero.set_title('Distribucion de postulaciones durante Febrero',fontsize=15)\n",
    "g_month_febrero.set_xlabel('Dias')\n",
    "g_month_febrero.set_ylabel('Cantidad de postulaciones');"
   ]
  },
  {
   "cell_type": "markdown",
   "metadata": {},
   "source": [
    "Ambos gráficos presentan 'bajones' de 2-3 días de duración: ¿Son fines de semana?"
   ]
  },
  {
   "cell_type": "markdown",
   "metadata": {},
   "source": [
    "Ambos gráficos presentan 'bajones' de 2-3 días de duración: ¿Son fines de semana"
   ]
  },
  {
   "cell_type": "markdown",
   "metadata": {},
   "source": [
    "Ambos gráficos presentan 'bajones' de 2-3 días de duración: ¿Son fines de semana"
   ]
  },
  {
   "cell_type": "code",
   "execution_count": null,
   "metadata": {},
   "outputs": [],
   "source": [
    "postulaciones['weekday']= pd.to_datetime(postulaciones['date']).dt.dayofweek\n",
    "days = ['lunes','martes','miercoles','jueves','viernes','sabado','domingo']\n",
    "postulaciones['weekday'] = pd.Categorical(values=postulaciones['weekday'].values, ordered=True).rename_categories(days)\n",
    "postulaciones['weekday'].value_counts().sort_index().plot(kind='bar', title='Postulaciones por dia de semana')\n",
    "# Al hacer el gráfico, podemos ver que los fines de semana tienen muchas menos postulaciones\n",
    "# y que jueves y viernes son los dias de la semana con menos postulaciones."
   ]
  },
  {
   "cell_type": "code",
   "execution_count": null,
   "metadata": {},
   "outputs": [],
   "source": [
    "#este df contiene solo los dias entre el 15 y 28 de cada mes\n",
    "enero_febrero_igual_dias = pd.DataFrame(columns = ['date'])\n",
    "enero_febrero_igual_dias['date'] = postulaciones['date'][(pd.to_datetime(postulaciones['date']).dt.day > 14) & (pd.to_datetime(postulaciones['date']).dt.day < 29)]"
   ]
  },
  {
   "cell_type": "code",
   "execution_count": null,
   "metadata": {},
   "outputs": [],
   "source": [
    "hist_enero_edit = pd.to_datetime(enero_febrero_igual_dias['date'][pd.to_datetime(enero_febrero_igual_dias['date']).dt.month == 1]).dt.day.hist(bins=13,color= 'lightgreen');\n",
    "hist_enero_edit.set_title('Distribucion de postulaciones durante Enero(15-28)',fontsize=15)\n",
    "hist_enero_edit.set_xlabel('Dias')\n",
    "hist_enero_edit.set_ylabel('Cantidad de postulaciones');"
   ]
  },
  {
   "cell_type": "code",
   "execution_count": null,
   "metadata": {},
   "outputs": [],
   "source": [
    "hist_Febrero_edit = pd.to_datetime(enero_febrero_igual_dias['date'][pd.to_datetime(enero_febrero_igual_dias['date']).dt.month == 2]).dt.day.hist(bins=13,color='lightblue');\n",
    "hist_Febrero_edit.set_title('Distribucion de postulaciones durante Febrero(15-28)',fontsize=15)\n",
    "hist_Febrero_edit.set_xlabel('Dias')\n",
    "hist_Febrero_edit.set_ylabel('Cantidad de postulaciones');"
   ]
  },
  {
   "cell_type": "code",
   "execution_count": null,
   "metadata": {
    "scrolled": true
   },
   "outputs": [],
   "source": [
    "plt.hist(pd.to_datetime(enero_febrero_igual_dias['date']\n",
    "        [pd.to_datetime(enero_febrero_igual_dias['date']).dt.month == 2]).dt.day, bins=13,\n",
    "         color='lightblue',label= 'Febrero')\n",
    "plt.hist(pd.to_datetime(enero_febrero_igual_dias['date']\n",
    "        [pd.to_datetime(enero_febrero_igual_dias['date']).dt.month == 1]).dt.day,bins=13,\n",
    "         color='violet',alpha=0.5, label='Enero')\n",
    "plt.xlabel('Fechas')\n",
    "plt.ylabel('Cantidad de postulaciones')\n",
    "plt.title('Distribucion de las postulaciones entre el 15 y 28 de cada mes')\n",
    "plt.legend()\n",
    "plt.show()"
   ]
  },
  {
   "cell_type": "markdown",
   "metadata": {},
   "source": [
    "De esta última comparación se aprecia que el número de postulaciones es en general\n",
    "mayor para febrero, y que el último día de febrero presenta un pico muy alto en \n",
    "las postulaciones."
   ]
  },
  {
   "cell_type": "code",
   "execution_count": null,
   "metadata": {},
   "outputs": [],
   "source": [
    "postulaciones_educacion.head()"
   ]
  },
  {
   "cell_type": "code",
   "execution_count": null,
   "metadata": {},
   "outputs": [],
   "source": [
    "post_educ_estado = postulaciones_educacion['estado'].value_counts().sort_index().plot(kind='bar')\n",
    "post_educ_estado.set_title('Distribucion de postulaciones segun estado de la Educacion',fontsize=15)\n",
    "post_educ_estado.set_xlabel('Estado')\n",
    "post_educ_estado.set_ylabel('Cantidad de postulaciones');"
   ]
  },
  {
   "cell_type": "code",
   "execution_count": null,
   "metadata": {},
   "outputs": [],
   "source": [
    "post_educ_carrera = np.log(postulaciones_educacion['nombre'].value_counts() + 1).plot(kind='barh')\n",
    "post_educ_carrera.set_title('Distribucion de postulaciones (log) segun la carrera',fontsize=15)\n",
    "post_educ_carrera.set_ylabel('Nombre de la carrera')\n",
    "post_educ_carrera.set_xlabel('Cantidad de postulaciones (log)');"
   ]
  },
  {
   "cell_type": "code",
   "execution_count": null,
   "metadata": {
    "scrolled": false
   },
   "outputs": [],
   "source": [
    "estado_y_carreras = postulaciones_educacion[['nombre','estado']]\n",
    "benchs_number = 7\n",
    "benchs_names = ['Doctorado','Master','Otro','Posgrado','Secundario', 'Terciario/Tecnico','Universitario']\n",
    "\n",
    "arch_en_curso = estado_y_carreras[estado_y_carreras['estado'] == 'En Curso']\n",
    "arch_graduado = estado_y_carreras[estado_y_carreras['estado'] == 'Graduado']\n",
    "arch_abandonado = estado_y_carreras[estado_y_carreras['estado'] == 'Abandonado']\n",
    "\n",
    "#Uso una escala logaritmica asi se pueden ver mejor los datos en el grafico\n",
    "en_curso = np.log(arch_en_curso['nombre'].value_counts() +1).sort_index()\n",
    "abandonado = np.log(arch_abandonado['nombre'].value_counts() +1).sort_index()\n",
    "graduado = np.log(arch_graduado['nombre'].value_counts() +1).sort_index()\n",
    "\n",
    "index = np.arange(len(benchs_names))\n",
    "\n",
    "bar_width = 0.2\n",
    "opacity = 0.5\n",
    "\n",
    "#plt.barh(index, en_curso, bar_width, alpha=0.7,color='y',label='En Curso')\n",
    "plt.barh(index+bar_width, abandonado, bar_width, alpha=0.7,color='r',label='Abandonado')\n",
    "plt.barh(index+2*bar_width, graduado, bar_width, alpha=0.7,color='g',label='Graduado')\n",
    "\n",
    "plt.grid(True, axis='x', linewidth=0.2)\n",
    "plt.title('Distribucion de postulaciones (log) segun el estado de cada carrera',fontsize = 15)\n",
    "plt.ylabel('Carreras')\n",
    "plt.xlabel('Cantidad de postulaciones (log)')\n",
    "plt.yticks(index + 2*bar_width, benchs_names)\n",
    "plt.legend()\n",
    "\n",
    "plt.tight_layout()\n",
    "plt.show()"
   ]
  },
  {
   "cell_type": "code",
   "execution_count": null,
   "metadata": {
    "scrolled": true
   },
   "outputs": [],
   "source": [
    "\n",
    "postulaciones_genero_edad['edad'] = pd.to_datetime(postulaciones_genero_edad['fechanacimiento'],errors='coerce').dt.year\n",
    "postulaciones_genero_edad['edad'] = 2018 - postulaciones_genero_edad['edad']\n",
    "postulaciones_genero_edad.sort_values(by='edad', ascending=True)"
   ]
  },
  {
   "cell_type": "code",
   "execution_count": null,
   "metadata": {
    "scrolled": true
   },
   "outputs": [],
   "source": [
    "postulaciones_genero_edad.fillna(0)\n",
    "edad_postulantes = pd.DataFrame(columns=['edad'])\n",
    "edad_postulantes['edad'] = postulaciones_genero_edad['edad'][(postulaciones_genero_edad['edad'] > 17) & (postulaciones_genero_edad['edad'] < 71)]\n",
    "edad_postulantes['edad'] = edad_postulantes['edad'].astype(int)\n",
    "edad_postulantes.sort_values(by='edad', ascending = True)"
   ]
  },
  {
   "cell_type": "code",
   "execution_count": null,
   "metadata": {},
   "outputs": [],
   "source": [
    "postulaciones_genero_edad = postulaciones_genero_edad.fillna(0)\n",
    "postulaciones_genero_edad['edad'] = postulaciones_genero_edad['edad'].astype(int)\n",
    "postulaciones_genero_edad = postulaciones_genero_edad[(postulaciones_genero_edad['edad'] <71) & (postulaciones_genero_edad['edad'] > 17)]\n",
    "postulaciones_genero_edad.head()"
   ]
  },
  {
   "cell_type": "code",
   "execution_count": null,
   "metadata": {},
   "outputs": [],
   "source": [
    "post_genero = postulaciones_genero_edad['sexo'].value_counts().plot(kind='barh')\n",
    "post_genero.set_title('Distribucion de postulaciones segun el genero',fontsize=15)\n",
    "post_genero.set_ylabel('Genero')\n",
    "post_genero.set_xlabel('Cantidad de postulaciones');"
   ]
  },
  {
   "cell_type": "code",
   "execution_count": null,
   "metadata": {},
   "outputs": [],
   "source": [
    "post_edad = edad_postulantes['edad'].value_counts().sort_index().plot(kind='line',color='green')\n",
    "post_edad.set_title('Distribucion de postulaciones segun la edad de los postulantes',fontsize=15)\n",
    "post_edad.set_xlabel('Edad')\n",
    "post_edad.set_ylabel('Cantidad de postulaciones');\n",
    "\n"
   ]
  },
  {
   "cell_type": "code",
   "execution_count": null,
   "metadata": {},
   "outputs": [],
   "source": [
    "femenino = pd.DataFrame(columns = ['genero','edad'])\n",
    "masculino = pd.DataFrame(columns = ['genero','edad'])\n",
    "no_declara = pd.DataFrame(columns = ['genero','edad'])\n",
    "\n",
    "femenino = postulaciones_genero_edad[postulaciones_genero_edad['sexo'] == 'FEM']\n",
    "masculino = postulaciones_genero_edad[postulaciones_genero_edad['sexo'] == 'MASC']\n",
    "no_declara = postulaciones_genero_edad[postulaciones_genero_edad['sexo'] == 'NO_DECLARA']\n",
    "\n",
    "#plt.hist(femenino['edad'], bins=53, color='pink',label= 'Postulantes Fememinas')\n",
    "#plt.hist(masculino['edad'], bins=53, color='darkblue',alpha=0.3, label='Postulantes Masculinos')\n",
    "#plt.hist(no_declara['edad'], bins=53, color='red',alpha=0.5, label='Postulantes sin sexo declarado')\n",
    "\n",
    "plt.xlabel('Edad')\n",
    "plt.ylabel('Cantidad de postulaciones')\n",
    "plt.title('Distribucion de las postulaciones segun edad y el genero')\n",
    "plt.legend()\n",
    "plt.show()"
   ]
  },
  {
   "cell_type": "code",
   "execution_count": null,
   "metadata": {},
   "outputs": [],
   "source": [
    "#Cantidad de postulaciones de personas que no declaran su sexo segun su edad.\n",
    "no_declara['edad'].value_counts().head()"
   ]
  },
  {
   "cell_type": "code",
   "execution_count": null,
   "metadata": {},
   "outputs": [],
   "source": [
    "avisos_detalle.head()"
   ]
  },
  {
   "cell_type": "code",
   "execution_count": null,
   "metadata": {},
   "outputs": [],
   "source": [
    "#avisos_nivel_laboral = avisos_detalle['nivel_laboral'].value_counts().plot(kind='bar')\n",
    "#avisos_nivel_laboral.set_title('Distribucion de los avisos laborales segun el nivel laboral pedido',fontsize=15)\n",
    "#avisos_nivel_laboral.set_xlabel('Cantidad de avisos')\n",
    "#avisos_nivel_laboral.set_ylabel('Nivel laboral');\n",
    "\n",
    "avisos_detalle['nivel_laboral'].value_counts()"
   ]
  },
  {
   "cell_type": "code",
   "execution_count": null,
   "metadata": {},
   "outputs": [],
   "source": [
    "avisos_tipo_de_trabajo = np.log(avisos_detalle['tipo_de_trabajo'].value_counts()+1).plot(kind='barh')\n",
    "avisos_tipo_de_trabajo.set_title('Distribucion de los avisos (log) laborales segun el tipo de trabajo pedido',fontsize=15)\n",
    "avisos_tipo_de_trabajo.set_ylabel('Tipo de trabajo')\n",
    "avisos_tipo_de_trabajo.set_xlabel('Cantidad de avisos (log)');\n",
    "\n",
    "avisos_detalle['tipo_de_trabajo'].value_counts().sum()"
   ]
  },
  {
   "cell_type": "code",
   "execution_count": null,
   "metadata": {},
   "outputs": [],
   "source": [
    "avisos_zona = np.log(avisos_detalle['nombre_zona'].value_counts() + 1).sort_index().plot(kind='bar')\n",
    "avisos_zona.set_title('Distribucion de los avisos laborales segun la zona de trabajo',fontsize=15)\n",
    "avisos_zona.set_xlabel('Zona')\n",
    "avisos_zona.set_ylabel('Cantidad de avisos (log)');\n",
    "\n",
    "avisos_detalle['nombre_zona'].value_counts()"
   ]
  },
  {
   "cell_type": "markdown",
   "metadata": {},
   "source": [
    "# Merge de los datos\n",
    "recuerdo la forma de los datasets"
   ]
  },
  {
   "cell_type": "code",
   "execution_count": null,
   "metadata": {},
   "outputs": [],
   "source": [
    "#vistas = vistas.set_index()\n",
    "vistas['idpostulante'].value_counts()"
   ]
  },
  {
   "cell_type": "code",
   "execution_count": null,
   "metadata": {},
   "outputs": [],
   "source": [
    "postulaciones_educacion.head(15)"
   ]
  },
  {
   "cell_type": "code",
   "execution_count": null,
   "metadata": {},
   "outputs": [],
   "source": [
    "postulantes = postulaciones_genero_edad.set_index('idpostulante')\n",
    "postulantes['anuncios_vistos'] = vistas['idpostulante'].value_counts()\n",
    "postulantes['anuncios_vistos'] = postulantes['anuncios_vistos'].fillna(0)\n",
    "#sobresimplificación horrible, habría que ponderar más fuerte estudios avanzados y estudios completos.\n",
    "postulantes['nivel_educativo'] = postulaciones_educacion['idpostulante'].value_counts()\n",
    "\n",
    "postulantes.head(10)"
   ]
  },
  {
   "cell_type": "code",
   "execution_count": null,
   "metadata": {
    "scrolled": false
   },
   "outputs": [],
   "source": [
    "hist_educacion = postulantes['nivel_educativo'].hist(log=True, bins=9, label='cantidad de postulantes por nivel educativo')\n",
    "hist_educacion.set_title('Cantidad de postulantes por nivel educativo')\n",
    "hist_educacion.set_xlabel('Nivel educativo')\n",
    "hist_educacion.set_ylabel('Cantidad de postulantes(log)')"
   ]
  },
  {
   "cell_type": "code",
   "execution_count": null,
   "metadata": {},
   "outputs": [],
   "source": [
    "scatter_anuncios_vistos = postulantes.plot.scatter('nivel_educativo','anuncios_vistos', logy=True,alpha=0.3)\n",
    "scatter_anuncios_vistos.set_title('Cantidad de anuncios vistos por nivel educativo')\n",
    "scatter_anuncios_vistos.set_xlabel('Nivel educativo')\n",
    "scatter_anuncios_vistos.set_ylabel('Cantidad de anuncios vistos por postulante(log)')"
   ]
  },
  {
   "cell_type": "code",
   "execution_count": null,
   "metadata": {},
   "outputs": [],
   "source": [
    "bar_avg_anuncios_vistos = postulantes.groupby('nivel_educativo').agg(np.average).plot()\n",
    "bar_avg_anuncios_vistos.set_title('Promedio de anuncios vistos por nivel educativo')\n",
    "bar_avg_anuncios_vistos.set_xlabel('Nivel educativo')\n",
    "bar_avg_anuncios_vistos.set_ylabel('Promedio de anuncios vistos')\n"
   ]
  },
  {
   "cell_type": "code",
   "execution_count": null,
   "metadata": {},
   "outputs": [],
   "source": [
    "postulaciones['anuncios_vistos'] = vistas['idpostulante'].value_counts()\n",
    "postulaciones.head()"
   ]
  },
  {
   "cell_type": "code",
   "execution_count": null,
   "metadata": {},
   "outputs": [],
   "source": [
    "avisos_online.head()"
   ]
  },
  {
   "cell_type": "code",
   "execution_count": null,
   "metadata": {},
   "outputs": [],
   "source": [
    "postulaciones_educacion.head()"
   ]
  },
  {
   "cell_type": "code",
   "execution_count": null,
   "metadata": {},
   "outputs": [],
   "source": [
    "#MERGE PARA VER LOS AVISOS ONLINE Y OFFLINE VISTOS POR POSTULANTES\n",
    "avisos_vistos_por_postulantes = pd.merge(vistas, postulaciones_genero_edad, on='idpostulante', how='inner')\n",
    "avisos_vistos_por_postulantes.groupby('idpostulante').agg(np.sum)"
   ]
  },
  {
   "cell_type": "code",
   "execution_count": null,
   "metadata": {},
   "outputs": [],
   "source": [
    "#RENOMBRO LA COLUMNA 'idAviso' DEL DF VISTAS PARA QUE COINCIDA CON EL DE AVISOS_ONLINE\n",
    "vistas = vistas.rename(columns={'idAviso':'idaviso'})"
   ]
  },
  {
   "cell_type": "code",
   "execution_count": null,
   "metadata": {},
   "outputs": [],
   "source": [
    "#HAGO UN MERGE PARA VER SOLO LOS AVISOS ONLINE QUE HALLAN SIDO VISTOS\n",
    "avisos_online_vistos = pd.merge(vistas, avisos_online, on='idaviso', how='inner')"
   ]
  },
  {
   "cell_type": "code",
   "execution_count": null,
   "metadata": {},
   "outputs": [],
   "source": [
    "#Hacer un merge con con los datos de el estado de las carreras y los sexos\n",
    "postulantes_educacion_genero = pd.merge(postulaciones_genero_edad, postulaciones_educacion, on='idpostulante', how='inner')\n",
    "postulantes_educacion_genero.head()"
   ]
  }
 ],
 "metadata": {
  "kernelspec": {
   "display_name": "Python 3",
   "language": "python",
   "name": "python3"
  },
  "language_info": {
   "codemirror_mode": {
    "name": "ipython",
    "version": 3
   },
   "file_extension": ".py",
   "mimetype": "text/x-python",
   "name": "python",
   "nbconvert_exporter": "python",
   "pygments_lexer": "ipython3",
   "version": "3.6.5"
  }
 },
 "nbformat": 4,
 "nbformat_minor": 2
}
