{
 "cells": [
  {
   "cell_type": "code",
   "execution_count": 1,
   "metadata": {},
   "outputs": [],
   "source": [
    "import pyspark\n",
    "import matplotlib.pyplot as plt\n",
    "import numpy as np\n",
    "import seaborn as sbn\n",
    "import pandas as pd\n",
    "import datetime\n",
    "\n",
    "%matplotlib inline\n",
    "\n",
    "plt.style.use('default') \n",
    "\n",
    "sbn.set(style=\"whitegrid\") "
   ]
  },
  {
   "cell_type": "markdown",
   "metadata": {},
   "source": [
    "# **Apertura de archivos a usar durante la resolucion del trabajo practico.**"
   ]
  },
  {
   "cell_type": "code",
   "execution_count": 2,
   "metadata": {},
   "outputs": [],
   "source": [
    "postulaciones_educacion = pd.read_csv('fiuba_1_postulantes_educacion.csv')\n",
    "postulaciones_genero_edad = pd.read_csv('fiuba_2_postulantes_genero_y_edad.csv')\n",
    "vistas = pd.read_csv('fiuba_3_vistas.csv')\n",
    "postulaciones = pd.read_csv('fiuba_4_postulaciones.csv')\n",
    "avisos_online = pd.read_csv('fiuba_5_avisos_online.csv')\n",
    "avisos_detalle = pd.read_csv('fiuba_6_avisos_detalle.csv')"
   ]
  },
  {
   "cell_type": "markdown",
   "metadata": {},
   "source": [
    "# Preparando los datos para el analisis"
   ]
  },
  {
   "cell_type": "markdown",
   "metadata": {},
   "source": [
    "## Archivo 'postulaciones'"
   ]
  },
  {
   "cell_type": "code",
   "execution_count": 3,
   "metadata": {},
   "outputs": [
    {
     "data": {
      "text/plain": [
       "idaviso             False\n",
       "idpostulante        False\n",
       "fechapostulacion    False\n",
       "dtype: bool"
      ]
     },
     "execution_count": 3,
     "metadata": {},
     "output_type": "execute_result"
    }
   ],
   "source": [
    "postulaciones.isnull().any()"
   ]
  },
  {
   "cell_type": "code",
   "execution_count": 4,
   "metadata": {},
   "outputs": [
    {
     "data": {
      "text/html": [
       "<div>\n",
       "<style scoped>\n",
       "    .dataframe tbody tr th:only-of-type {\n",
       "        vertical-align: middle;\n",
       "    }\n",
       "\n",
       "    .dataframe tbody tr th {\n",
       "        vertical-align: top;\n",
       "    }\n",
       "\n",
       "    .dataframe thead th {\n",
       "        text-align: right;\n",
       "    }\n",
       "</style>\n",
       "<table border=\"1\" class=\"dataframe\">\n",
       "  <thead>\n",
       "    <tr style=\"text-align: right;\">\n",
       "      <th></th>\n",
       "      <th>idaviso</th>\n",
       "      <th>idpostulante</th>\n",
       "      <th>fechapostulacion</th>\n",
       "      <th>date</th>\n",
       "      <th>time</th>\n",
       "    </tr>\n",
       "  </thead>\n",
       "  <tbody>\n",
       "    <tr>\n",
       "      <th>0</th>\n",
       "      <td>1112257047</td>\n",
       "      <td>NM5M</td>\n",
       "      <td>2018-01-15 16:22:34</td>\n",
       "      <td>2018-01-15</td>\n",
       "      <td>16:22:34</td>\n",
       "    </tr>\n",
       "    <tr>\n",
       "      <th>1</th>\n",
       "      <td>1111920714</td>\n",
       "      <td>NM5M</td>\n",
       "      <td>2018-02-06 09:04:50</td>\n",
       "      <td>2018-02-06</td>\n",
       "      <td>09:04:50</td>\n",
       "    </tr>\n",
       "    <tr>\n",
       "      <th>2</th>\n",
       "      <td>1112346945</td>\n",
       "      <td>NM5M</td>\n",
       "      <td>2018-02-22 09:04:47</td>\n",
       "      <td>2018-02-22</td>\n",
       "      <td>09:04:47</td>\n",
       "    </tr>\n",
       "    <tr>\n",
       "      <th>3</th>\n",
       "      <td>1112345547</td>\n",
       "      <td>NM5M</td>\n",
       "      <td>2018-02-22 09:04:59</td>\n",
       "      <td>2018-02-22</td>\n",
       "      <td>09:04:59</td>\n",
       "    </tr>\n",
       "    <tr>\n",
       "      <th>4</th>\n",
       "      <td>1112237522</td>\n",
       "      <td>5awk</td>\n",
       "      <td>2018-01-25 18:55:03</td>\n",
       "      <td>2018-01-25</td>\n",
       "      <td>18:55:03</td>\n",
       "    </tr>\n",
       "  </tbody>\n",
       "</table>\n",
       "</div>"
      ],
      "text/plain": [
       "      idaviso idpostulante     fechapostulacion        date      time\n",
       "0  1112257047         NM5M  2018-01-15 16:22:34  2018-01-15  16:22:34\n",
       "1  1111920714         NM5M  2018-02-06 09:04:50  2018-02-06  09:04:50\n",
       "2  1112346945         NM5M  2018-02-22 09:04:47  2018-02-22  09:04:47\n",
       "3  1112345547         NM5M  2018-02-22 09:04:59  2018-02-22  09:04:59\n",
       "4  1112237522         5awk  2018-01-25 18:55:03  2018-01-25  18:55:03"
      ]
     },
     "execution_count": 4,
     "metadata": {},
     "output_type": "execute_result"
    }
   ],
   "source": [
    "#Creo columnas para poder utilizar la fecha y el horario mas comodamente, en el archivo de Postulaciones\n",
    "postulaciones['date'] = pd.to_datetime(postulaciones['fechapostulacion']).dt.date\n",
    "postulaciones['time'] = pd.to_datetime(postulaciones['fechapostulacion']).dt.time\n",
    "postulaciones.head()"
   ]
  },
  {
   "cell_type": "code",
   "execution_count": 5,
   "metadata": {},
   "outputs": [
    {
     "name": "stdout",
     "output_type": "stream",
     "text": [
      "<class 'pandas.core.frame.DataFrame'>\n",
      "RangeIndex: 3401623 entries, 0 to 3401622\n",
      "Data columns (total 5 columns):\n",
      "idaviso             int64\n",
      "idpostulante        object\n",
      "fechapostulacion    object\n",
      "date                object\n",
      "time                object\n",
      "dtypes: int64(1), object(4)\n",
      "memory usage: 129.8+ MB\n",
      "None\n"
     ]
    }
   ],
   "source": [
    "print(postulaciones.info())"
   ]
  },
  {
   "cell_type": "code",
   "execution_count": 6,
   "metadata": {},
   "outputs": [
    {
     "data": {
      "text/plain": [
       "False"
      ]
     },
     "execution_count": 6,
     "metadata": {},
     "output_type": "execute_result"
    }
   ],
   "source": [
    "#Veo si hay filas duplicadas con los mismos valores en todas las columnas\n",
    "postulaciones.duplicated().any()"
   ]
  },
  {
   "cell_type": "markdown",
   "metadata": {},
   "source": [
    "## Archivo 'avisos_detalle'"
   ]
  },
  {
   "cell_type": "code",
   "execution_count": 7,
   "metadata": {},
   "outputs": [
    {
     "data": {
      "text/plain": [
       "idaviso                 False\n",
       "idpais                  False\n",
       "titulo                  False\n",
       "descripcion             False\n",
       "nombre_zona             False\n",
       "ciudad                   True\n",
       "mapacalle                True\n",
       "tipo_de_trabajo         False\n",
       "nivel_laboral           False\n",
       "nombre_area             False\n",
       "denominacion_empresa     True\n",
       "dtype: bool"
      ]
     },
     "execution_count": 7,
     "metadata": {},
     "output_type": "execute_result"
    }
   ],
   "source": [
    "avisos_detalle.isnull().any()"
   ]
  },
  {
   "cell_type": "code",
   "execution_count": 8,
   "metadata": {},
   "outputs": [],
   "source": [
    "#ESTE DF TIENE DATOS NULOS EN LAS COLUMNAS DE 'CIUDAD', 'MAPACALLE' Y 'DENOMINACION_EMPRESA'. \n",
    "#Decidimos eliminarlas ya que no nos parecieron muy relevantes para el analisis\n",
    "avisos_detalle.drop(['ciudad','mapacalle','denominacion_empresa','descripcion'],1,inplace=True)\n",
    "#avisos_detalle.drop('descripcion',1,inplace=True)"
   ]
  },
  {
   "cell_type": "code",
   "execution_count": 9,
   "metadata": {},
   "outputs": [
    {
     "data": {
      "text/html": [
       "<div>\n",
       "<style scoped>\n",
       "    .dataframe tbody tr th:only-of-type {\n",
       "        vertical-align: middle;\n",
       "    }\n",
       "\n",
       "    .dataframe tbody tr th {\n",
       "        vertical-align: top;\n",
       "    }\n",
       "\n",
       "    .dataframe thead th {\n",
       "        text-align: right;\n",
       "    }\n",
       "</style>\n",
       "<table border=\"1\" class=\"dataframe\">\n",
       "  <thead>\n",
       "    <tr style=\"text-align: right;\">\n",
       "      <th></th>\n",
       "      <th>idaviso</th>\n",
       "      <th>idpais</th>\n",
       "      <th>titulo</th>\n",
       "      <th>nombre_zona</th>\n",
       "      <th>tipo_de_trabajo</th>\n",
       "      <th>nivel_laboral</th>\n",
       "      <th>nombre_area</th>\n",
       "    </tr>\n",
       "  </thead>\n",
       "  <tbody>\n",
       "    <tr>\n",
       "      <th>0</th>\n",
       "      <td>8725750</td>\n",
       "      <td>1</td>\n",
       "      <td>VENDEDOR/A PROVINCIA DE SANTA FE</td>\n",
       "      <td>Gran Buenos Aires</td>\n",
       "      <td>Full-time</td>\n",
       "      <td>Senior / Semi-Senior</td>\n",
       "      <td>Comercial</td>\n",
       "    </tr>\n",
       "    <tr>\n",
       "      <th>1</th>\n",
       "      <td>17903700</td>\n",
       "      <td>1</td>\n",
       "      <td>Enfermeras</td>\n",
       "      <td>Gran Buenos Aires</td>\n",
       "      <td>Full-time</td>\n",
       "      <td>Senior / Semi-Senior</td>\n",
       "      <td>Salud</td>\n",
       "    </tr>\n",
       "    <tr>\n",
       "      <th>2</th>\n",
       "      <td>1000150677</td>\n",
       "      <td>1</td>\n",
       "      <td>Chofer de taxi</td>\n",
       "      <td>Capital Federal</td>\n",
       "      <td>Full-time</td>\n",
       "      <td>Senior / Semi-Senior</td>\n",
       "      <td>Transporte</td>\n",
       "    </tr>\n",
       "    <tr>\n",
       "      <th>3</th>\n",
       "      <td>1000610287</td>\n",
       "      <td>1</td>\n",
       "      <td>CHOFER DE CAMIONETA BAHIA BLANCA - PUNTA ALTA</td>\n",
       "      <td>Gran Buenos Aires</td>\n",
       "      <td>Full-time</td>\n",
       "      <td>Senior / Semi-Senior</td>\n",
       "      <td>Transporte</td>\n",
       "    </tr>\n",
       "    <tr>\n",
       "      <th>4</th>\n",
       "      <td>1000872556</td>\n",
       "      <td>1</td>\n",
       "      <td>Operarios de Planta - Rubro Electrodomésticos</td>\n",
       "      <td>Gran Buenos Aires</td>\n",
       "      <td>Full-time</td>\n",
       "      <td>Senior / Semi-Senior</td>\n",
       "      <td>Producción</td>\n",
       "    </tr>\n",
       "  </tbody>\n",
       "</table>\n",
       "</div>"
      ],
      "text/plain": [
       "      idaviso  idpais                                         titulo  \\\n",
       "0     8725750       1               VENDEDOR/A PROVINCIA DE SANTA FE   \n",
       "1    17903700       1                                     Enfermeras   \n",
       "2  1000150677       1                                 Chofer de taxi   \n",
       "3  1000610287       1  CHOFER DE CAMIONETA BAHIA BLANCA - PUNTA ALTA   \n",
       "4  1000872556       1  Operarios de Planta - Rubro Electrodomésticos   \n",
       "\n",
       "         nombre_zona tipo_de_trabajo         nivel_laboral nombre_area  \n",
       "0  Gran Buenos Aires       Full-time  Senior / Semi-Senior   Comercial  \n",
       "1  Gran Buenos Aires       Full-time  Senior / Semi-Senior       Salud  \n",
       "2    Capital Federal       Full-time  Senior / Semi-Senior  Transporte  \n",
       "3  Gran Buenos Aires       Full-time  Senior / Semi-Senior  Transporte  \n",
       "4  Gran Buenos Aires       Full-time  Senior / Semi-Senior  Producción  "
      ]
     },
     "execution_count": 9,
     "metadata": {},
     "output_type": "execute_result"
    }
   ],
   "source": [
    "#Asi quedaria finalmente el archivo 'avisos_detalle' para el analisis\n",
    "avisos_detalle.head()"
   ]
  },
  {
   "cell_type": "markdown",
   "metadata": {},
   "source": [
    "## Archivo 'postulaciones_genero_edad'"
   ]
  },
  {
   "cell_type": "code",
   "execution_count": 10,
   "metadata": {},
   "outputs": [
    {
     "data": {
      "text/plain": [
       "idpostulante       False\n",
       "fechanacimiento     True\n",
       "sexo               False\n",
       "dtype: bool"
      ]
     },
     "execution_count": 10,
     "metadata": {},
     "output_type": "execute_result"
    }
   ],
   "source": [
    "postulaciones_genero_edad.isnull().any()"
   ]
  },
  {
   "cell_type": "code",
   "execution_count": 11,
   "metadata": {
    "scrolled": true
   },
   "outputs": [
    {
     "data": {
      "text/plain": [
       "4750"
      ]
     },
     "execution_count": 11,
     "metadata": {},
     "output_type": "execute_result"
    }
   ],
   "source": [
    "# Parece ser que es una proporción importante de las postulaciones\n",
    "# las que no incluyen fecha de nacimiento\n",
    "postulaciones_genero_edad['fechanacimiento'].isnull().sum()"
   ]
  },
  {
   "cell_type": "code",
   "execution_count": 12,
   "metadata": {},
   "outputs": [
    {
     "data": {
      "text/plain": [
       "False"
      ]
     },
     "execution_count": 12,
     "metadata": {},
     "output_type": "execute_result"
    }
   ],
   "source": [
    "#Veo si hay filas duplicadas con los mismos valores en todas las columnas\n",
    "postulaciones_genero_edad.duplicated().any()"
   ]
  },
  {
   "cell_type": "code",
   "execution_count": 13,
   "metadata": {},
   "outputs": [
    {
     "data": {
      "text/plain": [
       "False"
      ]
     },
     "execution_count": 13,
     "metadata": {},
     "output_type": "execute_result"
    }
   ],
   "source": [
    "#Veo si hay usuarios duplicados\n",
    "postulaciones_genero_edad['idpostulante'].duplicated().any()"
   ]
  },
  {
   "cell_type": "code",
   "execution_count": 14,
   "metadata": {},
   "outputs": [
    {
     "data": {
      "text/plain": [
       "idpostulante       False\n",
       "fechanacimiento    False\n",
       "sexo               False\n",
       "dtype: bool"
      ]
     },
     "execution_count": 14,
     "metadata": {},
     "output_type": "execute_result"
    }
   ],
   "source": [
    "#En primer instancia le asignamos el año actual, para poder comenzar con el analisis.\n",
    "postulaciones_genero_edad = postulaciones_genero_edad.fillna(2018-1-1)\n",
    "postulaciones_genero_edad.isnull().any()"
   ]
  },
  {
   "cell_type": "markdown",
   "metadata": {},
   "source": [
    "## Archivo 'postulaciones_educacion'"
   ]
  },
  {
   "cell_type": "code",
   "execution_count": 15,
   "metadata": {},
   "outputs": [
    {
     "data": {
      "text/html": [
       "<div>\n",
       "<style scoped>\n",
       "    .dataframe tbody tr th:only-of-type {\n",
       "        vertical-align: middle;\n",
       "    }\n",
       "\n",
       "    .dataframe tbody tr th {\n",
       "        vertical-align: top;\n",
       "    }\n",
       "\n",
       "    .dataframe thead th {\n",
       "        text-align: right;\n",
       "    }\n",
       "</style>\n",
       "<table border=\"1\" class=\"dataframe\">\n",
       "  <thead>\n",
       "    <tr style=\"text-align: right;\">\n",
       "      <th></th>\n",
       "      <th>idpostulante</th>\n",
       "      <th>nombre</th>\n",
       "      <th>estado</th>\n",
       "    </tr>\n",
       "  </thead>\n",
       "  <tbody>\n",
       "    <tr>\n",
       "      <th>0</th>\n",
       "      <td>NdJl</td>\n",
       "      <td>Posgrado</td>\n",
       "      <td>En Curso</td>\n",
       "    </tr>\n",
       "    <tr>\n",
       "      <th>1</th>\n",
       "      <td>8BkL</td>\n",
       "      <td>Universtario</td>\n",
       "      <td>En Curso</td>\n",
       "    </tr>\n",
       "    <tr>\n",
       "      <th>2</th>\n",
       "      <td>1d2B</td>\n",
       "      <td>Universitario</td>\n",
       "      <td>En Curso</td>\n",
       "    </tr>\n",
       "    <tr>\n",
       "      <th>3</th>\n",
       "      <td>NPBx</td>\n",
       "      <td>Universitario</td>\n",
       "      <td>En Curso</td>\n",
       "    </tr>\n",
       "    <tr>\n",
       "      <th>4</th>\n",
       "      <td>NPBx</td>\n",
       "      <td>Master</td>\n",
       "      <td>En Curso</td>\n",
       "    </tr>\n",
       "  </tbody>\n",
       "</table>\n",
       "</div>"
      ],
      "text/plain": [
       "  idpostulante         nombre    estado\n",
       "0         NdJl       Posgrado  En Curso\n",
       "1         8BkL   Universtario  En Curso\n",
       "2         1d2B  Universitario  En Curso\n",
       "3         NPBx  Universitario  En Curso\n",
       "4         NPBx         Master  En Curso"
      ]
     },
     "execution_count": 15,
     "metadata": {},
     "output_type": "execute_result"
    }
   ],
   "source": [
    "postulaciones_educacion.head()"
   ]
  },
  {
   "cell_type": "code",
   "execution_count": 16,
   "metadata": {},
   "outputs": [
    {
     "data": {
      "text/plain": [
       "idpostulante    False\n",
       "nombre          False\n",
       "estado          False\n",
       "dtype: bool"
      ]
     },
     "execution_count": 16,
     "metadata": {},
     "output_type": "execute_result"
    }
   ],
   "source": [
    "#Veo si hay filas de datos duplicados\n",
    "postulaciones_educacion.isnull().any()"
   ]
  },
  {
   "cell_type": "code",
   "execution_count": 17,
   "metadata": {},
   "outputs": [
    {
     "data": {
      "text/plain": [
       "True"
      ]
     },
     "execution_count": 17,
     "metadata": {},
     "output_type": "execute_result"
    }
   ],
   "source": [
    "# Hay ids de postulantes duplicados, lo que es consistente con que un postulante tenga en su perfil\n",
    "# por ejemplo, un estudio universitario en curso y un estudio secundario completo\n",
    "postulaciones_educacion.duplicated(subset = 'idpostulante').any()"
   ]
  },
  {
   "cell_type": "markdown",
   "metadata": {},
   "source": [
    "## Archivo 'vistas'"
   ]
  },
  {
   "cell_type": "code",
   "execution_count": 18,
   "metadata": {},
   "outputs": [
    {
     "data": {
      "text/html": [
       "<div>\n",
       "<style scoped>\n",
       "    .dataframe tbody tr th:only-of-type {\n",
       "        vertical-align: middle;\n",
       "    }\n",
       "\n",
       "    .dataframe tbody tr th {\n",
       "        vertical-align: top;\n",
       "    }\n",
       "\n",
       "    .dataframe thead th {\n",
       "        text-align: right;\n",
       "    }\n",
       "</style>\n",
       "<table border=\"1\" class=\"dataframe\">\n",
       "  <thead>\n",
       "    <tr style=\"text-align: right;\">\n",
       "      <th></th>\n",
       "      <th>idAviso</th>\n",
       "      <th>timestamp</th>\n",
       "      <th>idpostulante</th>\n",
       "    </tr>\n",
       "  </thead>\n",
       "  <tbody>\n",
       "    <tr>\n",
       "      <th>0</th>\n",
       "      <td>1111780242</td>\n",
       "      <td>2018-02-23T13:38:13.187-0500</td>\n",
       "      <td>YjVJQ6Z</td>\n",
       "    </tr>\n",
       "    <tr>\n",
       "      <th>1</th>\n",
       "      <td>1112263876</td>\n",
       "      <td>2018-02-23T13:38:14.296-0500</td>\n",
       "      <td>BmVpYoR</td>\n",
       "    </tr>\n",
       "    <tr>\n",
       "      <th>2</th>\n",
       "      <td>1112327963</td>\n",
       "      <td>2018-02-23T13:38:14.329-0500</td>\n",
       "      <td>wVkBzZd</td>\n",
       "    </tr>\n",
       "    <tr>\n",
       "      <th>3</th>\n",
       "      <td>1112318643</td>\n",
       "      <td>2018-02-23T13:38:17.921-0500</td>\n",
       "      <td>OqmP9pv</td>\n",
       "    </tr>\n",
       "    <tr>\n",
       "      <th>4</th>\n",
       "      <td>1111903673</td>\n",
       "      <td>2018-02-23T13:38:18.973-0500</td>\n",
       "      <td>DrpbXDP</td>\n",
       "    </tr>\n",
       "  </tbody>\n",
       "</table>\n",
       "</div>"
      ],
      "text/plain": [
       "      idAviso                     timestamp idpostulante\n",
       "0  1111780242  2018-02-23T13:38:13.187-0500      YjVJQ6Z\n",
       "1  1112263876  2018-02-23T13:38:14.296-0500      BmVpYoR\n",
       "2  1112327963  2018-02-23T13:38:14.329-0500      wVkBzZd\n",
       "3  1112318643  2018-02-23T13:38:17.921-0500      OqmP9pv\n",
       "4  1111903673  2018-02-23T13:38:18.973-0500      DrpbXDP"
      ]
     },
     "execution_count": 18,
     "metadata": {},
     "output_type": "execute_result"
    }
   ],
   "source": [
    "vistas.head()\n",
    "# Plantea la relación entre postulantes y avisos"
   ]
  },
  {
   "cell_type": "code",
   "execution_count": 19,
   "metadata": {},
   "outputs": [
    {
     "data": {
      "text/plain": [
       "idAviso         False\n",
       "timestamp       False\n",
       "idpostulante    False\n",
       "dtype: bool"
      ]
     },
     "execution_count": 19,
     "metadata": {},
     "output_type": "execute_result"
    }
   ],
   "source": [
    "vistas.isnull().any()"
   ]
  },
  {
   "cell_type": "code",
   "execution_count": 20,
   "metadata": {},
   "outputs": [
    {
     "data": {
      "text/plain": [
       "False"
      ]
     },
     "execution_count": 20,
     "metadata": {},
     "output_type": "execute_result"
    }
   ],
   "source": [
    "vistas.duplicated().any()"
   ]
  },
  {
   "cell_type": "markdown",
   "metadata": {},
   "source": [
    "## Arichivo 'avisos_online'"
   ]
  },
  {
   "cell_type": "code",
   "execution_count": 21,
   "metadata": {},
   "outputs": [
    {
     "data": {
      "text/plain": [
       "idaviso    False\n",
       "dtype: bool"
      ]
     },
     "execution_count": 21,
     "metadata": {},
     "output_type": "execute_result"
    }
   ],
   "source": [
    "avisos_online.isnull().any()"
   ]
  },
  {
   "cell_type": "code",
   "execution_count": 22,
   "metadata": {},
   "outputs": [
    {
     "data": {
      "text/plain": [
       "False"
      ]
     },
     "execution_count": 22,
     "metadata": {},
     "output_type": "execute_result"
    }
   ],
   "source": [
    "avisos_online.duplicated().any()"
   ]
  },
  {
   "cell_type": "markdown",
   "metadata": {},
   "source": [
    "# Algunas exploraciones de cada archivo por separado"
   ]
  },
  {
   "cell_type": "code",
   "execution_count": 23,
   "metadata": {},
   "outputs": [
    {
     "data": {
      "image/png": "[encoded data removed]",
      "text/plain": [
       "<Figure size 432x288 with 1 Axes>"
      ]
     },
     "metadata": {},
     "output_type": "display_data"
    }
   ],
   "source": [
    "#Distribución de las postulaciones por dia del mes\n",
    "g_day = pd.to_datetime(postulaciones['date']).dt.day.hist(bins=31,edgecolor='black');\n",
    "g_day.set_title('Disitribucion de las postulaciones por día del mes',fontsize=15)\n",
    "g_day.set_xlabel('Dia')\n",
    "g_day.set_ylabel('Cantidad de postulaciones');"
   ]
  },
  {
   "cell_type": "code",
   "execution_count": 24,
   "metadata": {},
   "outputs": [
    {
     "data": {
      "image/png": "[encoded data removed]",
      "text/plain": [
       "<Figure size 432x288 with 1 Axes>"
      ]
     },
     "metadata": {},
     "output_type": "display_data"
    }
   ],
   "source": [
    "# ¿Será que uno se pone a buscar trabajo cuando se le empieza a acabar el sueldo?\n",
    "g_day = pd.to_datetime(postulaciones['date']).dt.day.hist(bins=4,edgecolor='black');"
   ]
  },
  {
   "cell_type": "code",
   "execution_count": 25,
   "metadata": {},
   "outputs": [
    {
     "data": {
      "image/png": "[encoded data removed]",
      "text/plain": [
       "<Figure size 216x216 with 1 Axes>"
      ]
     },
     "metadata": {},
     "output_type": "display_data"
    }
   ],
   "source": [
    "enero = postulaciones['date'][pd.to_datetime(postulaciones['date']).dt.month == 1]\n",
    "enero = pd.DataFrame(enero)\n",
    "\n",
    "febrero = postulaciones['date'][pd.to_datetime(postulaciones['date']).dt.month == 2]\n",
    "febrero = pd.DataFrame(febrero)\n",
    "\n",
    "sizes = [enero.count(),febrero.count()]\n",
    "names = ['Enero', 'Febrero']\n",
    "\n",
    "plt.figure(figsize=(3, 3))\n",
    "plt.title('Distribucion de las postulaciones por mes', fontsize=15)\n",
    "plt.pie(sizes, labels=names, autopct='%1.1f%%', startangle=90, colors=['green', 'lightblue'], explode=(0.1, 0),shadow=True)\n",
    "plt.show()"
   ]
  },
  {
   "cell_type": "code",
   "execution_count": 26,
   "metadata": {},
   "outputs": [
    {
     "data": {
      "text/plain": [
       "datetime.date(2018, 1, 15)"
      ]
     },
     "execution_count": 26,
     "metadata": {},
     "output_type": "execute_result"
    }
   ],
   "source": [
    "# ¡Los datos empiezan a partir del 15/1!\n",
    "postulaciones['date'].min()"
   ]
  },
  {
   "cell_type": "markdown",
   "metadata": {},
   "source": [
    "Ambos graficos son engañosos.\n",
    "El primero muestra que hay mas postulaciones en la segunda mitad de los meses pero eso es porque los datos de Enero son solo de la segunda mitad del mes.\n",
    "De igual manera el sugundo grafico muestra que Enero tiene practicamente la mitad de postulaciones que Febrero.\n",
    "Tambien se debe a lo comentado anteriormente, solo hay datos de la segunda mitad de Enero."
   ]
  },
  {
   "cell_type": "code",
   "execution_count": 27,
   "metadata": {},
   "outputs": [
    {
     "data": {
      "text/html": [
       "<div>\n",
       "<style scoped>\n",
       "    .dataframe tbody tr th:only-of-type {\n",
       "        vertical-align: middle;\n",
       "    }\n",
       "\n",
       "    .dataframe tbody tr th {\n",
       "        vertical-align: top;\n",
       "    }\n",
       "\n",
       "    .dataframe thead th {\n",
       "        text-align: right;\n",
       "    }\n",
       "</style>\n",
       "<table border=\"1\" class=\"dataframe\">\n",
       "  <thead>\n",
       "    <tr style=\"text-align: right;\">\n",
       "      <th></th>\n",
       "      <th>0</th>\n",
       "    </tr>\n",
       "  </thead>\n",
       "  <tbody>\n",
       "    <tr>\n",
       "      <th>6</th>\n",
       "      <td>2018-02-28</td>\n",
       "    </tr>\n",
       "    <tr>\n",
       "      <th>10</th>\n",
       "      <td>2018-02-27</td>\n",
       "    </tr>\n",
       "    <tr>\n",
       "      <th>13</th>\n",
       "      <td>2018-02-26</td>\n",
       "    </tr>\n",
       "    <tr>\n",
       "      <th>26</th>\n",
       "      <td>2018-02-25</td>\n",
       "    </tr>\n",
       "    <tr>\n",
       "      <th>25</th>\n",
       "      <td>2018-02-24</td>\n",
       "    </tr>\n",
       "    <tr>\n",
       "      <th>15</th>\n",
       "      <td>2018-02-23</td>\n",
       "    </tr>\n",
       "    <tr>\n",
       "      <th>1</th>\n",
       "      <td>2018-02-22</td>\n",
       "    </tr>\n",
       "    <tr>\n",
       "      <th>9</th>\n",
       "      <td>2018-02-21</td>\n",
       "    </tr>\n",
       "    <tr>\n",
       "      <th>20</th>\n",
       "      <td>2018-02-20</td>\n",
       "    </tr>\n",
       "    <tr>\n",
       "      <th>5</th>\n",
       "      <td>2018-02-19</td>\n",
       "    </tr>\n",
       "    <tr>\n",
       "      <th>4</th>\n",
       "      <td>2018-02-18</td>\n",
       "    </tr>\n",
       "    <tr>\n",
       "      <th>12</th>\n",
       "      <td>2018-02-17</td>\n",
       "    </tr>\n",
       "    <tr>\n",
       "      <th>24</th>\n",
       "      <td>2018-02-16</td>\n",
       "    </tr>\n",
       "    <tr>\n",
       "      <th>19</th>\n",
       "      <td>2018-02-15</td>\n",
       "    </tr>\n",
       "    <tr>\n",
       "      <th>18</th>\n",
       "      <td>2018-02-14</td>\n",
       "    </tr>\n",
       "    <tr>\n",
       "      <th>11</th>\n",
       "      <td>2018-02-13</td>\n",
       "    </tr>\n",
       "    <tr>\n",
       "      <th>27</th>\n",
       "      <td>2018-02-12</td>\n",
       "    </tr>\n",
       "    <tr>\n",
       "      <th>8</th>\n",
       "      <td>2018-02-11</td>\n",
       "    </tr>\n",
       "    <tr>\n",
       "      <th>23</th>\n",
       "      <td>2018-02-10</td>\n",
       "    </tr>\n",
       "    <tr>\n",
       "      <th>3</th>\n",
       "      <td>2018-02-09</td>\n",
       "    </tr>\n",
       "    <tr>\n",
       "      <th>22</th>\n",
       "      <td>2018-02-08</td>\n",
       "    </tr>\n",
       "    <tr>\n",
       "      <th>2</th>\n",
       "      <td>2018-02-07</td>\n",
       "    </tr>\n",
       "    <tr>\n",
       "      <th>0</th>\n",
       "      <td>2018-02-06</td>\n",
       "    </tr>\n",
       "    <tr>\n",
       "      <th>17</th>\n",
       "      <td>2018-02-05</td>\n",
       "    </tr>\n",
       "    <tr>\n",
       "      <th>21</th>\n",
       "      <td>2018-02-04</td>\n",
       "    </tr>\n",
       "    <tr>\n",
       "      <th>7</th>\n",
       "      <td>2018-02-03</td>\n",
       "    </tr>\n",
       "    <tr>\n",
       "      <th>16</th>\n",
       "      <td>2018-02-02</td>\n",
       "    </tr>\n",
       "    <tr>\n",
       "      <th>14</th>\n",
       "      <td>2018-02-01</td>\n",
       "    </tr>\n",
       "  </tbody>\n",
       "</table>\n",
       "</div>"
      ],
      "text/plain": [
       "             0\n",
       "6   2018-02-28\n",
       "10  2018-02-27\n",
       "13  2018-02-26\n",
       "26  2018-02-25\n",
       "25  2018-02-24\n",
       "15  2018-02-23\n",
       "1   2018-02-22\n",
       "9   2018-02-21\n",
       "20  2018-02-20\n",
       "5   2018-02-19\n",
       "4   2018-02-18\n",
       "12  2018-02-17\n",
       "24  2018-02-16\n",
       "19  2018-02-15\n",
       "18  2018-02-14\n",
       "11  2018-02-13\n",
       "27  2018-02-12\n",
       "8   2018-02-11\n",
       "23  2018-02-10\n",
       "3   2018-02-09\n",
       "22  2018-02-08\n",
       "2   2018-02-07\n",
       "0   2018-02-06\n",
       "17  2018-02-05\n",
       "21  2018-02-04\n",
       "7   2018-02-03\n",
       "16  2018-02-02\n",
       "14  2018-02-01"
      ]
     },
     "execution_count": 27,
     "metadata": {},
     "output_type": "execute_result"
    }
   ],
   "source": [
    "#Febrero tiene (casi)los dias completos\n",
    "febrero = postulaciones['date'][pd.to_datetime(postulaciones['date']).dt.month == 2]\n",
    "febrero = pd.DataFrame(febrero.unique()).sort_values(by=0, ascending=False)\n",
    "febrero"
   ]
  },
  {
   "cell_type": "code",
   "execution_count": 28,
   "metadata": {},
   "outputs": [
    {
     "data": {
      "image/png": "[encoded data removed]",
      "text/plain": [
       "<Figure size 432x288 with 1 Axes>"
      ]
     },
     "metadata": {},
     "output_type": "display_data"
    }
   ],
   "source": [
    "g_month_enero = pd.to_datetime(postulaciones['date'][pd.to_datetime(postulaciones['date']).dt.month == 1]).dt.day.hist(bins=17,edgecolor='black');\n",
    "g_month_enero.set_title('Distribucion de postulaciones durante Enero',fontsize=15)\n",
    "g_month_enero.set_xlabel('Dias')\n",
    "g_month_enero.set_ylabel('Cantidad de postulaciones');"
   ]
  },
  {
   "cell_type": "code",
   "execution_count": 29,
   "metadata": {},
   "outputs": [
    {
     "data": {
      "image/png": "[encoded data removed]",
      "text/plain": [
       "<Figure size 432x288 with 1 Axes>"
      ]
     },
     "metadata": {},
     "output_type": "display_data"
    }
   ],
   "source": [
    "g_month_febrero = pd.to_datetime(postulaciones['date'][pd.to_datetime(postulaciones['date']).dt.month == 2]).dt.day.hist(bins=28,edgecolor='black');\n",
    "g_month_febrero.set_title('Distribucion de postulaciones durante Febrero',fontsize=15)\n",
    "g_month_febrero.set_xlabel('Dias')\n",
    "g_month_febrero.set_ylabel('Cantidad de postulaciones');"
   ]
  },
  {
   "cell_type": "markdown",
   "metadata": {},
   "source": [
    "Ambos gráficos presentan 'bajones' de 2-3 días de duración: ¿Son fines de semana?"
   ]
  },
  {
   "cell_type": "markdown",
   "metadata": {},
   "source": [
    "Ambos gráficos presentan 'bajones' de 2-3 días de duración: ¿Son fines de semana"
   ]
  },
  {
   "cell_type": "markdown",
   "metadata": {},
   "source": [
    "Ambos gráficos presentan 'bajones' de 2-3 días de duración: ¿Son fines de semana"
   ]
  },
  {
   "cell_type": "code",
   "execution_count": 30,
   "metadata": {},
   "outputs": [
    {
     "data": {
      "text/plain": [
       "<matplotlib.axes._subplots.AxesSubplot at 0x7fb77a0cb7f0>"
      ]
     },
     "execution_count": 30,
     "metadata": {},
     "output_type": "execute_result"
    },
    {
     "data": {
      "image/png": "[encoded data removed]",
      "text/plain": [
       "<Figure size 432x288 with 1 Axes>"
      ]
     },
     "metadata": {},
     "output_type": "display_data"
    }
   ],
   "source": [
    "postulaciones['weekday']= pd.to_datetime(postulaciones['date']).dt.dayofweek\n",
    "days = ['lunes','martes','miercoles','jueves','viernes','sabado','domingo']\n",
    "postulaciones['weekday'] = pd.Categorical(values=postulaciones['weekday'].values, ordered=True).rename_categories(days)\n",
    "postulaciones['weekday'].value_counts().sort_index().plot(kind='bar', title='Postulaciones por dia de semana')\n",
    "# Al hacer el gráfico, podemos ver que los fines de semana tienen muchas menos postulaciones\n",
    "# y que jueves y viernes son los dias de la semana con menos postulaciones."
   ]
  },
  {
   "cell_type": "code",
   "execution_count": 31,
   "metadata": {},
   "outputs": [],
   "source": [
    "#este df contiene solo los dias entre el 15 y 28 de cada mes\n",
    "enero_febrero_igual_dias = pd.DataFrame(columns = ['date'])\n",
    "enero_febrero_igual_dias['date'] = postulaciones['date'][(pd.to_datetime(postulaciones['date']).dt.day > 14) & (pd.to_datetime(postulaciones['date']).dt.day < 29)]"
   ]
  },
  {
   "cell_type": "code",
   "execution_count": 32,
   "metadata": {},
   "outputs": [
    {
     "data": {
      "image/png": "[encoded data removed]",
      "text/plain": [
       "<Figure size 432x288 with 1 Axes>"
      ]
     },
     "metadata": {},
     "output_type": "display_data"
    }
   ],
   "source": [
    "hist_enero_edit = pd.to_datetime(enero_febrero_igual_dias['date'][pd.to_datetime(enero_febrero_igual_dias['date']).dt.month == 1]).dt.day.hist(bins=13,color= 'lightgreen');\n",
    "hist_enero_edit.set_title('Distribucion de postulaciones durante Enero(15-28)',fontsize=15)\n",
    "hist_enero_edit.set_xlabel('Dias')\n",
    "hist_enero_edit.set_ylabel('Cantidad de postulaciones');"
   ]
  },
  {
   "cell_type": "code",
   "execution_count": 33,
   "metadata": {},
   "outputs": [
    {
     "data": {
      "image/png": "[encoded data removed]",
      "text/plain": [
       "<Figure size 432x288 with 1 Axes>"
      ]
     },
     "metadata": {},
     "output_type": "display_data"
    }
   ],
   "source": [
    "hist_Febrero_edit = pd.to_datetime(enero_febrero_igual_dias['date'][pd.to_datetime(enero_febrero_igual_dias['date']).dt.month == 2]).dt.day.hist(bins=13,color='lightblue');\n",
    "hist_Febrero_edit.set_title('Distribucion de postulaciones durante Febrero(15-28)',fontsize=15)\n",
    "hist_Febrero_edit.set_xlabel('Dias')\n",
    "hist_Febrero_edit.set_ylabel('Cantidad de postulaciones');"
   ]
  },
  {
   "cell_type": "code",
   "execution_count": 34,
   "metadata": {
    "scrolled": true
   },
   "outputs": [
    {
     "data": {
      "image/png": "[encoded data removed]",
      "text/plain": [
       "<Figure size 432x288 with 1 Axes>"
      ]
     },
     "metadata": {},
     "output_type": "display_data"
    }
   ],
   "source": [
    "plt.hist(pd.to_datetime(enero_febrero_igual_dias['date']\n",
    "        [pd.to_datetime(enero_febrero_igual_dias['date']).dt.month == 2]).dt.day, bins=13,\n",
    "         color='lightblue',label= 'Febrero')\n",
    "plt.hist(pd.to_datetime(enero_febrero_igual_dias['date']\n",
    "        [pd.to_datetime(enero_febrero_igual_dias['date']).dt.month == 1]).dt.day,bins=13,\n",
    "         color='violet',alpha=0.5, label='Enero')\n",
    "plt.xlabel('Fechas')\n",
    "plt.ylabel('Cantidad de postulaciones')\n",
    "plt.title('Distribucion de las postulaciones entre el 15 y 28 de cada mes')\n",
    "plt.legend()\n",
    "plt.show()"
   ]
  },
  {
   "cell_type": "markdown",
   "metadata": {},
   "source": [
    "De esta última comparación se aprecia que el número de postulaciones es en general\n",
    "mayor para febrero, y que el último día de febrero presenta un pico muy alto en \n",
    "las postulaciones."
   ]
  },
  {
   "cell_type": "code",
   "execution_count": 35,
   "metadata": {},
   "outputs": [
    {
     "data": {
      "text/html": [
       "<div>\n",
       "<style scoped>\n",
       "    .dataframe tbody tr th:only-of-type {\n",
       "        vertical-align: middle;\n",
       "    }\n",
       "\n",
       "    .dataframe tbody tr th {\n",
       "        vertical-align: top;\n",
       "    }\n",
       "\n",
       "    .dataframe thead th {\n",
       "        text-align: right;\n",
       "    }\n",
       "</style>\n",
       "<table border=\"1\" class=\"dataframe\">\n",
       "  <thead>\n",
       "    <tr style=\"text-align: right;\">\n",
       "      <th></th>\n",
       "      <th>idpostulante</th>\n",
       "      <th>nombre</th>\n",
       "      <th>estado</th>\n",
       "    </tr>\n",
       "  </thead>\n",
       "  <tbody>\n",
       "    <tr>\n",
       "      <th>0</th>\n",
       "      <td>NdJl</td>\n",
       "      <td>Posgrado</td>\n",
       "      <td>En Curso</td>\n",
       "    </tr>\n",
       "    <tr>\n",
       "      <th>1</th>\n",
       "      <td>8BkL</td>\n",
       "      <td>Universtario</td>\n",
       "      <td>En Curso</td>\n",
       "    </tr>\n",
       "    <tr>\n",
       "      <th>2</th>\n",
       "      <td>1d2B</td>\n",
       "      <td>Universitario</td>\n",
       "      <td>En Curso</td>\n",
       "    </tr>\n",
       "    <tr>\n",
       "      <th>3</th>\n",
       "      <td>NPBx</td>\n",
       "      <td>Universitario</td>\n",
       "      <td>En Curso</td>\n",
       "    </tr>\n",
       "    <tr>\n",
       "      <th>4</th>\n",
       "      <td>NPBx</td>\n",
       "      <td>Master</td>\n",
       "      <td>En Curso</td>\n",
       "    </tr>\n",
       "  </tbody>\n",
       "</table>\n",
       "</div>"
      ],
      "text/plain": [
       "  idpostulante         nombre    estado\n",
       "0         NdJl       Posgrado  En Curso\n",
       "1         8BkL   Universtario  En Curso\n",
       "2         1d2B  Universitario  En Curso\n",
       "3         NPBx  Universitario  En Curso\n",
       "4         NPBx         Master  En Curso"
      ]
     },
     "execution_count": 35,
     "metadata": {},
     "output_type": "execute_result"
    }
   ],
   "source": [
    "postulaciones_educacion.head()"
   ]
  },
  {
   "cell_type": "code",
   "execution_count": 36,
   "metadata": {},
   "outputs": [
    {
     "data": {
      "image/png": "[encoded data removed]",
      "text/plain": [
       "<Figure size 432x288 with 1 Axes>"
      ]
     },
     "metadata": {},
     "output_type": "display_data"
    }
   ],
   "source": [
    "post_educ_estado = postulaciones_educacion['estado'].value_counts().sort_index().plot(kind='bar')\n",
    "post_educ_estado.set_title('Distribucion de postulaciones segun estado de la Educacion',fontsize=15)\n",
    "post_educ_estado.set_xlabel('Estado')\n",
    "post_educ_estado.set_ylabel('Cantidad de postulaciones');"
   ]
  },
  {
   "cell_type": "code",
   "execution_count": 37,
   "metadata": {},
   "outputs": [
    {
     "data": {
      "image/png": "[encoded data removed]",
      "text/plain": [
       "<Figure size 432x288 with 1 Axes>"
      ]
     },
     "metadata": {},
     "output_type": "display_data"
    }
   ],
   "source": [
    "post_educ_carrera = np.log(postulaciones_educacion['nombre'].value_counts() + 1).plot(kind='barh')\n",
    "post_educ_carrera.set_title('Distribucion de postulaciones (log) segun la carrera',fontsize=15)\n",
    "post_educ_carrera.set_ylabel('Nombre de la carrera')\n",
    "post_educ_carrera.set_xlabel('Cantidad de postulaciones (log)');"
   ]
  },
  {
   "cell_type": "code",
   "execution_count": 51,
   "metadata": {
    "scrolled": false
   },
   "outputs": [
    {
     "data": {
      "image/png": "[encoded data removed]",
      "text/plain": [
       "<Figure size 432x288 with 1 Axes>"
      ]
     },
     "metadata": {},
     "output_type": "display_data"
    }
   ],
   "source": [
    "estado_y_carreras = postulaciones_educacion[['nombre','estado']]\n",
    "benchs_number = 7\n",
    "benchs_names = ['Doctorado','Master','Otro','Posgrado','Secundario', 'Terciario/Tecnico','Universitario']\n",
    "\n",
    "arch_en_curso = estado_y_carreras[estado_y_carreras['estado'] == 'En Curso']\n",
    "arch_graduado = estado_y_carreras[estado_y_carreras['estado'] == 'Graduado']\n",
    "arch_abandonado = estado_y_carreras[estado_y_carreras['estado'] == 'Abandonado']\n",
    "\n",
    "#Uso una escala logaritmica asi se pueden ver mejor los datos en el grafico\n",
    "en_curso = np.log(arch_en_curso['nombre'].value_counts() +1).sort_index()\n",
    "abandonado = np.log(arch_abandonado['nombre'].value_counts() +1).sort_index()\n",
    "graduado = np.log(arch_graduado['nombre'].value_counts() +1).sort_index()\n",
    "\n",
    "index = np.arange(len(benchs_names))\n",
    "\n",
    "bar_width = 0.2\n",
    "opacity = 0.5\n",
    "\n",
    "#plt.barh(index, en_curso, bar_width, alpha=0.7,color='y',label='En Curso')\n",
    "plt.barh(index+bar_width, abandonado, bar_width, alpha=0.7,color='r',label='Abandonado')\n",
    "plt.barh(index+2*bar_width, graduado, bar_width, alpha=0.7,color='g',label='Graduado')\n",
    "\n",
    "plt.grid(True, axis='x', linewidth=0.2)\n",
    "plt.title('Distribucion de postulaciones (log) segun el estado de cada carrera',fontsize = 15)\n",
    "plt.ylabel('Carreras')\n",
    "plt.xlabel('Cantidad de postulaciones (log)')\n",
    "plt.yticks(index + 2*bar_width, benchs_names)\n",
    "plt.legend()\n",
    "\n",
    "plt.tight_layout()\n",
    "plt.show()"
   ]
  },
  {
   "cell_type": "code",
   "execution_count": null,
   "metadata": {
    "scrolled": true
   },
   "outputs": [],
   "source": [
    "\n",
    "postulaciones_genero_edad['edad'] = pd.to_datetime(postulaciones_genero_edad['fechanacimiento'],errors='coerce').dt.year\n",
    "postulaciones_genero_edad['edad'] = 2018 - postulaciones_genero_edad['edad']\n",
    "postulaciones_genero_edad.sort_values(by='edad', ascending=True)"
   ]
  },
  {
   "cell_type": "code",
   "execution_count": null,
   "metadata": {
    "scrolled": true
   },
   "outputs": [],
   "source": [
    "postulaciones_genero_edad.fillna(0)\n",
    "edad_postulantes = pd.DataFrame(columns=['edad'])\n",
    "edad_postulantes['edad'] = postulaciones_genero_edad['edad'][(postulaciones_genero_edad['edad'] > 17) & (postulaciones_genero_edad['edad'] < 71)]\n",
    "edad_postulantes['edad'] = edad_postulantes['edad'].astype(int)\n",
    "edad_postulantes.sort_values(by='edad', ascending = True)"
   ]
  },
  {
   "cell_type": "code",
   "execution_count": null,
   "metadata": {},
   "outputs": [],
   "source": [
    "postulaciones_genero_edad = postulaciones_genero_edad.fillna(0)\n",
    "postulaciones_genero_edad['edad'] = postulaciones_genero_edad['edad'].astype(int)\n",
    "postulaciones_genero_edad = postulaciones_genero_edad[(postulaciones_genero_edad['edad'] <71) & (postulaciones_genero_edad['edad'] > 17)]\n",
    "postulaciones_genero_edad.head()"
   ]
  },
  {
   "cell_type": "code",
   "execution_count": null,
   "metadata": {},
   "outputs": [],
   "source": [
    "post_genero = postulaciones_genero_edad['sexo'].value_counts().plot(kind='barh')\n",
    "post_genero.set_title('Distribucion de postulaciones segun el genero',fontsize=15)\n",
    "post_genero.set_ylabel('Genero')\n",
    "post_genero.set_xlabel('Cantidad de postulaciones');"
   ]
  },
  {
   "cell_type": "code",
   "execution_count": null,
   "metadata": {},
   "outputs": [],
   "source": [
    "post_edad = edad_postulantes['edad'].value_counts().sort_index().plot(kind='line',color='green')\n",
    "post_edad.set_title('Distribucion de postulaciones segun la edad de los postulantes',fontsize=15)\n",
    "post_edad.set_xlabel('Edad')\n",
    "post_edad.set_ylabel('Cantidad de postulaciones');\n",
    "\n"
   ]
  },
  {
   "cell_type": "code",
   "execution_count": null,
   "metadata": {},
   "outputs": [],
   "source": [
    "femenino = pd.DataFrame(columns = ['genero','edad'])\n",
    "masculino = pd.DataFrame(columns = ['genero','edad'])\n",
    "no_declara = pd.DataFrame(columns = ['genero','edad'])\n",
    "\n",
    "femenino = postulaciones_genero_edad[postulaciones_genero_edad['sexo'] == 'FEM']\n",
    "masculino = postulaciones_genero_edad[postulaciones_genero_edad['sexo'] == 'MASC']\n",
    "no_declara = postulaciones_genero_edad[postulaciones_genero_edad['sexo'] == 'NO_DECLARA']\n",
    "\n",
    "#plt.hist(femenino['edad'], bins=53, color='pink',label= 'Postulantes Fememinas')\n",
    "#plt.hist(masculino['edad'], bins=53, color='darkblue',alpha=0.3, label='Postulantes Masculinos')\n",
    "#plt.hist(no_declara['edad'], bins=53, color='red',alpha=0.5, label='Postulantes sin sexo declarado')\n",
    "\n",
    "plt.xlabel('Edad')\n",
    "plt.ylabel('Cantidad de postulaciones')\n",
    "plt.title('Distribucion de las postulaciones segun edad y el genero')\n",
    "plt.legend()\n",
    "plt.show()"
   ]
  },
  {
   "cell_type": "code",
   "execution_count": null,
   "metadata": {},
   "outputs": [],
   "source": [
    "#Cantidad de postulaciones de personas que no declaran su sexo segun su edad.\n",
    "no_declara['edad'].value_counts().head()"
   ]
  },
  {
   "cell_type": "code",
   "execution_count": null,
   "metadata": {},
   "outputs": [],
   "source": [
    "avisos_detalle.head()"
   ]
  },
  {
   "cell_type": "code",
   "execution_count": null,
   "metadata": {},
   "outputs": [],
   "source": [
    "#avisos_nivel_laboral = avisos_detalle['nivel_laboral'].value_counts().plot(kind='bar')\n",
    "#avisos_nivel_laboral.set_title('Distribucion de los avisos laborales segun el nivel laboral pedido',fontsize=15)\n",
    "#avisos_nivel_laboral.set_xlabel('Cantidad de avisos')\n",
    "#avisos_nivel_laboral.set_ylabel('Nivel laboral');\n",
    "\n",
    "avisos_detalle['nivel_laboral'].value_counts()"
   ]
  },
  {
   "cell_type": "code",
   "execution_count": null,
   "metadata": {},
   "outputs": [],
   "source": [
    "avisos_tipo_de_trabajo = np.log(avisos_detalle['tipo_de_trabajo'].value_counts()+1).plot(kind='barh')\n",
    "avisos_tipo_de_trabajo.set_title('Distribucion de los avisos (log) laborales segun el tipo de trabajo pedido',fontsize=15)\n",
    "avisos_tipo_de_trabajo.set_ylabel('Tipo de trabajo')\n",
    "avisos_tipo_de_trabajo.set_xlabel('Cantidad de avisos (log)');\n",
    "\n",
    "avisos_detalle['tipo_de_trabajo'].value_counts().sum()"
   ]
  },
  {
   "cell_type": "code",
   "execution_count": null,
   "metadata": {},
   "outputs": [],
   "source": [
    "avisos_zona = np.log(avisos_detalle['nombre_zona'].value_counts() + 1).sort_index().plot(kind='bar')\n",
    "avisos_zona.set_title('Distribucion de los avisos laborales segun la zona de trabajo',fontsize=15)\n",
    "avisos_zona.set_xlabel('Zona')\n",
    "avisos_zona.set_ylabel('Cantidad de avisos (log)');\n",
    "\n",
    "avisos_detalle['nombre_zona'].value_counts()"
   ]
  },
  {
   "cell_type": "markdown",
   "metadata": {},
   "source": [
    "# Merge de los datos\n",
    "recuerdo la forma de los datasets"
   ]
  },
  {
   "cell_type": "code",
   "execution_count": null,
   "metadata": {},
   "outputs": [],
   "source": [
    "#vistas = vistas.set_index()\n",
    "vistas['idpostulante'].value_counts()"
   ]
  },
  {
   "cell_type": "code",
   "execution_count": null,
   "metadata": {},
   "outputs": [],
   "source": [
    "postulaciones_educacion.head(15)"
   ]
  },
  {
   "cell_type": "code",
   "execution_count": null,
   "metadata": {},
   "outputs": [],
   "source": [
    "postulantes = postulaciones_genero_edad.set_index('idpostulante')\n",
    "postulantes['anuncios_vistos'] = vistas['idpostulante'].value_counts()\n",
    "postulantes['anuncios_vistos'] = postulantes['anuncios_vistos'].fillna(0)\n",
    "#sobresimplificación horrible, habría que ponderar más fuerte estudios avanzados y estudios completos.\n",
    "postulantes['nivel_educativo'] = postulaciones_educacion['idpostulante'].value_counts()\n",
    "\n",
    "postulantes.head(10)"
   ]
  },
  {
   "cell_type": "code",
   "execution_count": null,
   "metadata": {
    "scrolled": false
   },
   "outputs": [],
   "source": [
    "hist_educacion = postulantes['nivel_educativo'].hist(log=True, bins=9, label='cantidad de postulantes por nivel educativo')\n",
    "hist_educacion.set_title('Cantidad de postulantes por nivel educativo')\n",
    "hist_educacion.set_xlabel('Nivel educativo')\n",
    "hist_educacion.set_ylabel('Cantidad de postulantes(log)')"
   ]
  },
  {
   "cell_type": "code",
   "execution_count": null,
   "metadata": {},
   "outputs": [],
   "source": [
    "scatter_anuncios_vistos = postulantes.plot.scatter('nivel_educativo','anuncios_vistos', logy=True,alpha=0.3)\n",
    "scatter_anuncios_vistos.set_title('Cantidad de anuncios vistos por nivel educativo')\n",
    "scatter_anuncios_vistos.set_xlabel('Nivel educativo')\n",
    "scatter_anuncios_vistos.set_ylabel('Cantidad de anuncios vistos por postulante(log)')"
   ]
  },
  {
   "cell_type": "code",
   "execution_count": null,
   "metadata": {},
   "outputs": [],
   "source": [
    "bar_avg_anuncios_vistos = postulantes.groupby('nivel_educativo').agg(np.average).plot()\n",
    "bar_avg_anuncios_vistos.set_title('Promedio de anuncios vistos por nivel educativo')\n",
    "bar_avg_anuncios_vistos.set_xlabel('Nivel educativo')\n",
    "bar_avg_anuncios_vistos.set_ylabel('Promedio de anuncios vistos')\n"
   ]
  },
  {
   "cell_type": "code",
   "execution_count": null,
   "metadata": {},
   "outputs": [],
   "source": [
    "postulaciones['anuncios_vistos'] = vistas['idpostulante'].value_counts()\n",
    "postulaciones.head()"
   ]
  },
  {
   "cell_type": "code",
   "execution_count": null,
   "metadata": {},
   "outputs": [],
   "source": [
    "avisos_online.head()"
   ]
  },
  {
   "cell_type": "code",
   "execution_count": null,
   "metadata": {},
   "outputs": [],
   "source": [
    "postulaciones_educacion.head()"
   ]
  },
  {
   "cell_type": "code",
   "execution_count": null,
   "metadata": {},
   "outputs": [],
   "source": [
    "#MERGE PARA VER LOS AVISOS ONLINE Y OFFLINE VISTOS POR POSTULANTES\n",
    "avisos_vistos_por_postulantes = pd.merge(vistas, postulaciones_genero_edad, on='idpostulante', how='inner')\n",
    "avisos_vistos_por_postulantes.groupby('idpostulante').agg(np.sum)"
   ]
  },
  {
   "cell_type": "code",
   "execution_count": null,
   "metadata": {},
   "outputs": [],
   "source": [
    "#RENOMBRO LA COLUMNA 'idAviso' DEL DF VISTAS PARA QUE COINCIDA CON EL DE AVISOS_ONLINE\n",
    "vistas = vistas.rename(columns={'idAviso':'idaviso'})"
   ]
  },
  {
   "cell_type": "code",
   "execution_count": null,
   "metadata": {},
   "outputs": [],
   "source": [
    "#HAGO UN MERGE PARA VER SOLO LOS AVISOS ONLINE QUE HALLAN SIDO VISTOS\n",
    "avisos_online_vistos = pd.merge(vistas, avisos_online, on='idaviso', how='inner')"
   ]
  },
  {
   "cell_type": "code",
   "execution_count": null,
   "metadata": {},
   "outputs": [],
   "source": [
    "#Hacer un merge con con los datos de el estado de las carreras y los sexos\n",
    "postulantes_educacion_genero = pd.merge(postulaciones_genero_edad, postulaciones_educacion, on='idpostulante', how='inner')\n",
    "postulantes_educacion_genero.head()"
   ]
  }
 ],
 "metadata": {
  "kernelspec": {
   "display_name": "Python 3",
   "language": "python",
   "name": "python3"
  },
  "language_info": {
   "codemirror_mode": {
    "name": "ipython",
    "version": 3
   },
   "file_extension": ".py",
   "mimetype": "text/x-python",
   "name": "python",
   "nbconvert_exporter": "python",
   "pygments_lexer": "ipython3",
   "version": "3.6.4"
  }
 },
 "nbformat": 4,
 "nbformat_minor": 2
}
