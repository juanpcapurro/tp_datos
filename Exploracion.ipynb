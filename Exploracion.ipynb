{
 "cells": [
  {
   "cell_type": "code",
   "execution_count": 1,
   "metadata": {},
   "outputs": [
    {
     "data": {
      "text/html": [
       "<style>.container { width:100% !important; }</style>"
      ],
      "text/plain": [
       "<IPython.core.display.HTML object>"
      ]
     },
     "metadata": {},
     "output_type": "display_data"
    },
    {
     "data": {
      "text/plain": [
       "<Figure size 2000x2000 with 0 Axes>"
      ]
     },
     "metadata": {},
     "output_type": "display_data"
    }
   ],
   "source": [
    "import matplotlib.pyplot as plt\n",
    "from matplotlib_venn import venn2\n",
    "import numpy as np\n",
    "import seaborn as sbn\n",
    "import pandas as pd\n",
    "from datetime import datetime\n",
    "import time\n",
    "import gc\n",
    "from sklearn.ensemble import RandomForestClassifier\n",
    "from sklearn.metrics import roc_auc_score\n",
    "from sklearn.model_selection import GridSearchCV\n",
    "from pandas.api.types import CategoricalDtype\n",
    "\n",
    "%matplotlib inline\n",
    "from IPython.core.display import display, HTML\n",
    "display(HTML(\"<style>.container { width:100% !important; }</style>\"))\n",
    "plt.style.use('default') \n",
    "plt.figure(figsize=(20,20))\n",
    "sbn.set(style=\"whitegrid\") "
   ]
  },
  {
   "cell_type": "code",
   "execution_count": 2,
   "metadata": {},
   "outputs": [],
   "source": [
    "def postulantes_str2timestamp(s): # debo\n",
    "    if type(s) is datetime:\n",
    "        return s\n",
    "    try:\n",
    "        return datetime.strptime(s, '%Y-%m-%d')\n",
    "    except:\n",
    "        return None\n",
    "def sanitize_postulante_genero_edad(df):\n",
    "    df['sexo'] = df['sexo'].astype('category').fillna(\"NO_DECLARA\")\n",
    "    df = df.drop_duplicates(subset='idpostulante')\n",
    "    df['fechanacimiento']= df['fechanacimiento'].map(postulantes_str2timestamp)\n",
    "    mean_datetime = datetime.now()\n",
    "    df['fechanacimiento']= df['fechanacimiento'].map(lambda it: it if it else mean_datetime)\n",
    "    df['edad'] = df.fechanacimiento.apply(lambda it: 2018 - it.year)\n",
    "    #df = df[df.edad >17][df.edad<105]\n",
    "    return df.drop(['fechanacimiento'],1)\n",
    "def generar_nivel_educativo(postulantes, educacion):\n",
    "    #Considero como nivel educativo el maximo nivel que alcanzaron que fue completado.\n",
    "    #Descarto estudios en curso o abandonados, quizas deba volver aca en algun momento\n",
    "    tipo_estudio = CategoricalDtype(\n",
    "        categories=[\"Otro\",\"Secundario\",\"Terciario/Técnico\",\"Universitario\",\"Posgrado\",\"Master\",\"Doctorado\"],\n",
    "        ordered=True\n",
    "    )\n",
    "    educacion = educacion[educacion.estado=='Graduado'].drop(['estado'],1)\n",
    "    educacion.nombre= educacion.nombre.astype(tipo_estudio)\n",
    "    educacion = educacion.sort_values(by='nombre',ascending=True)\n",
    "    educacion = educacion.drop_duplicates(subset='idpostulante',keep='last')\n",
    "    postulantes = postulantes.merge(educacion, on='idpostulante',how='left')\n",
    "    postulantes = postulantes.rename(index=str,columns={'nombre':'nivel_educativo'})\n",
    "    print(\"postulantes sin nivel educativo: \",postulantes.nivel_educativo.isna().value_counts())\n",
    "    return postulantes\n",
    "def satinizar_vistas(vistas):\n",
    "    vistas = vistas.drop_duplicates().rename(columns={'idAviso': 'idaviso'})\n",
    "    #vistas.date = pd.to_datetime(vistas.timestamp).dt.date\n",
    "    vistas.idaviso = vistas.idaviso.astype('int64')\n",
    "    #return vistas.loc[:,['idaviso','date','idpostulante']]\n",
    "    return vistas.loc[:,['idaviso','timestamp','idpostulante']]\n",
    "\n",
    "def sanitize_aviso_detalle(df):\n",
    "    df = df.drop_duplicates(subset='idaviso')\n",
    "    tipo_trabajo = CategoricalDtype(\n",
    "        categories=[\"Full-time\",\"Part-time\",\"Teletrabajo\",\"Por Horas\",\"Pasantia\",\"Temporario\",\"Por Contrato\",\"Fines de Semana\",\"Primer empleo\"],\n",
    "        ordered=True #de 'mas fijo' a 'menos fijo'\n",
    "    )\n",
    "    df['tipo_de_trabajo'] = df['tipo_de_trabajo'].astype(tipo_trabajo)\n",
    "    # el numero quizas amerite tratarse como hiperparametro\n",
    "    #empresas_reconocidas = df.denominacion_empresa.value_counts().index[:100]\n",
    "    #df.loc[:,'denominacion_empresa'] = df.denominacion_empresa.apply(lambda it: it if it in empresas_reconocidas else 'Otro')\n",
    "    popularidad_empresa = CategoricalDtype(\n",
    "        categories=df.denominacion_empresa.value_counts(ascending=True).index,\n",
    "        ordered=True\n",
    "    )\n",
    "    df.loc[:,'denominacion_empresa'] = df.loc[:,'denominacion_empresa'].astype(popularidad_empresa)\n",
    "    for columna in ['nombre_zona','nombre_area','nivel_laboral']:\n",
    "        df.loc[:,columna] = df.loc[:,columna].astype('category')\n",
    "    #df.nivel_laboral = df.nivel_laboral.fillna('Otro')\n",
    "    #df.denominacion_empresa = df.denominacion_empresa.fillna('Otro')\n",
    "    return df.drop(['ciudad','idpais','mapacalle'],1)\n",
    "def sanitize_postulaciones(df):\n",
    "    df['date'] = pd.to_datetime(df['fechapostulacion']).dt.date\n",
    "    df['time'] = pd.to_datetime(df['fechapostulacion']).dt.time\n",
    "    df = df[pd.to_datetime(df.fechapostulacion) > datetime(2018,2,23,18,38)]\n",
    "    return df.drop_duplicates(subset=['idpostulante','idanuncio'],keep='last')\n",
    "def agregar_cantidad_anuncios(df, nombre_columna, anuncios):\n",
    "    values = pd.DataFrame()\n",
    "    value_counts = anuncios['idpostulante'].value_counts()\n",
    "    values['idpostulante'] = value_counts.index\n",
    "    values[nombre_columna] = value_counts.values\n",
    "    df = pd.merge(df,values, on='idpostulante',how='left')\n",
    "    df[nombre_columna] = df[nombre_columna].fillna(0)\n",
    "    return df"
   ]
  },
  {
   "cell_type": "code",
   "execution_count": 3,
   "metadata": {},
   "outputs": [],
   "source": [
    "#Antes que nada, me intriga si los archivos de 'datos_navent' y los de 'hasta15/4' tienen overlap, son redundantes o consecutivos\n",
    "def leer_datos_entrenamiento():\n",
    "    genero_edad_postulantes = pd.concat([\n",
    "        pd.read_csv('datos/datos_navent/fiuba_2_postulantes_genero_y_edad.csv'),\n",
    "        pd.read_csv('datos/hasta_15_4/fiuba_2_postulantes_genero_y_edad.csv')\n",
    "    ])\n",
    "    #veo que hay repetidos por id\n",
    "    #veo que hay gente (4) con sexo '0'\n",
    "    # Genero una funcion para satinizar archivos de postulantes_genero_edad\n",
    "    genero_edad_postulantes = sanitize_postulante_genero_edad(genero_edad_postulantes)\n",
    "    educacion_postulantes = pd.concat([\n",
    "        pd.read_csv('datos/datos_navent/fiuba_1_postulantes_educacion.csv'),\n",
    "        pd.read_csv('datos/hasta_15_4/fiuba_1_postulantes_educacion.csv')\n",
    "    ])\n",
    "    postulantes = generar_nivel_educativo(genero_edad_postulantes, educacion_postulantes)\n",
    "    vistas = pd.concat([\n",
    "        pd.read_csv('datos/hasta_15_4/fiuba_3_vistas.csv'),\n",
    "        pd.read_csv('datos/datos_navent/fiuba_3_vistas.csv')\n",
    "    ])\n",
    "    vistas = satinizar_vistas(vistas)\n",
    "    vistas.idaviso = vistas.idaviso.astype('int64')\n",
    "    postulantes = agregar_cantidad_anuncios(postulantes, 'anuncios_vistos', vistas)\n",
    "    postulaciones = pd.concat([\n",
    "        pd.read_csv('datos/datos_navent/fiuba_4_postulaciones.csv'),\n",
    "        pd.read_csv('datos/hasta_15_4/fiuba_4_postulaciones.csv')\n",
    "    ])\n",
    "    postulaciones = sanitize_postulaciones(postulaciones)\n",
    "    avisos_detalle = pd.concat([\n",
    "        pd.read_csv('datos/datos_navent/fiuba_6_avisos_detalle.csv'),\n",
    "        pd.read_csv('datos/hasta_15_4/fiuba_6_avisos_detalle.csv'),\n",
    "        pd.read_csv('datos/fiuba_6_avisos_detalle_missing_nivel_laboral.csv')\n",
    "    ])\n",
    "    #ESTE DF TIENE MUCHOS DATOS NULOS EN LAS COLUMNAS DE 'CIUDAD' y 'MAPACALLE'. \n",
    "    #Decidimos eliminarlas ya que no nos parecieron muy relevantes para el analisis\n",
    "    #idpais solo tiene valor 1, la descripcion nunca es nula\n",
    "    #avisos_detalle.drop('descripcion',1,inplace=True)\n",
    "    tipo_trabajo = CategoricalDtype(\n",
    "        categories=[\"Full-time\",\"Part-time\",\"Teletrabajo\",\"Por Horas\",\"Pasantia\",\"Temporario\",\"Por Contrato\",\"Fines de Semana\",\"Primer empleo\"],\n",
    "        ordered=True #de 'mas fijo' a 'menos fijo'\n",
    "    )\n",
    "    avisos_detalle.nombre_area.value_counts()# hay muchas areas, no van a tener su propia categoria\n",
    "    avisos_detalle = sanitize_aviso_detalle(avisos_detalle)\n",
    "    return postulantes, avisos_detalle, vistas, postulaciones"
   ]
  },
  {
   "cell_type": "code",
   "execution_count": 4,
   "metadata": {},
   "outputs": [],
   "source": [
    "def leer_datos_predicciones():\n",
    "    vistas = satinizar_vistas(pd.read_csv('datos/desde_15_4/fiuba_3_vistas.csv'))\n",
    "    avisos = sanitize_aviso_detalle(pd.concat([\n",
    "        pd.read_csv('datos/desde_15_4/fiuba_6_avisos_detalle.csv'),\n",
    "        pd.read_csv('datos/fiuba_6_avisos_detalle_missing_nivel_laboral.csv')#\n",
    "    ]))\n",
    "    genero_edad_postulantes = sanitize_postulante_genero_edad(\n",
    "        pd.concat([\n",
    "            pd.read_csv('datos/desde_15_4/fiuba_2_postulantes_genero_y_edad.csv'),\n",
    "            pd.read_csv('datos/hasta_15_4/fiuba_2_postulantes_genero_y_edad.csv')\n",
    "        ])\n",
    "    )\n",
    "    postulantes = generar_nivel_educativo(genero_edad_postulantes, pd.read_csv('datos/desde_15_4/fiuba_1_postulantes_educacion.csv'))\n",
    "    postulantes = agregar_cantidad_anuncios(postulantes, 'anuncios_vistos', vistas)\n",
    "    template_submit = pd.read_csv('datos/template_resultado.csv')\n",
    "    return postulantes, avisos, vistas, template_submit"
   ]
  },
  {
   "cell_type": "code",
   "execution_count": 5,
   "metadata": {},
   "outputs": [
    {
     "name": "stderr",
     "output_type": "stream",
     "text": [
      "/home/vasectomio/.virtualenv/datos/lib/python3.6/site-packages/ipykernel_launcher.py:11: SettingWithCopyWarning: \n",
      "A value is trying to be set on a copy of a slice from a DataFrame.\n",
      "Try using .loc[row_indexer,col_indexer] = value instead\n",
      "\n",
      "See the caveats in the documentation: http://pandas.pydata.org/pandas-docs/stable/indexing.html#indexing-view-versus-copy\n",
      "  # This is added back by InteractiveShellApp.init_path()\n",
      "/home/vasectomio/.virtualenv/datos/lib/python3.6/site-packages/ipykernel_launcher.py:13: SettingWithCopyWarning: \n",
      "A value is trying to be set on a copy of a slice from a DataFrame.\n",
      "Try using .loc[row_indexer,col_indexer] = value instead\n",
      "\n",
      "See the caveats in the documentation: http://pandas.pydata.org/pandas-docs/stable/indexing.html#indexing-view-versus-copy\n",
      "  del sys.path[0]\n",
      "/home/vasectomio/.virtualenv/datos/lib/python3.6/site-packages/ipykernel_launcher.py:14: SettingWithCopyWarning: \n",
      "A value is trying to be set on a copy of a slice from a DataFrame.\n",
      "Try using .loc[row_indexer,col_indexer] = value instead\n",
      "\n",
      "See the caveats in the documentation: http://pandas.pydata.org/pandas-docs/stable/indexing.html#indexing-view-versus-copy\n",
      "  \n"
     ]
    },
    {
     "name": "stdout",
     "output_type": "stream",
     "text": [
      "postulantes sin nivel educativo:  False    290986\n",
      "True     117160\n",
      "Name: nivel_educativo, dtype: int64\n"
     ]
    },
    {
     "name": "stderr",
     "output_type": "stream",
     "text": [
      "/home/vasectomio/.virtualenv/datos/lib/python3.6/site-packages/ipykernel_launcher.py:45: SettingWithCopyWarning: \n",
      "A value is trying to be set on a copy of a slice from a DataFrame.\n",
      "Try using .loc[row_indexer,col_indexer] = value instead\n",
      "\n",
      "See the caveats in the documentation: http://pandas.pydata.org/pandas-docs/stable/indexing.html#indexing-view-versus-copy\n",
      "/home/vasectomio/.virtualenv/datos/lib/python3.6/site-packages/pandas/core/indexing.py:537: SettingWithCopyWarning: \n",
      "A value is trying to be set on a copy of a slice from a DataFrame.\n",
      "Try using .loc[row_indexer,col_indexer] = value instead\n",
      "\n",
      "See the caveats in the documentation: http://pandas.pydata.org/pandas-docs/stable/indexing.html#indexing-view-versus-copy\n",
      "  self.obj[item] = s\n"
     ]
    }
   ],
   "source": [
    "postulantes, avisos_detalle, vistas, postulaciones = leer_datos_entrenamiento()\n",
    "#postulantes, avisos_detalle, vistas, submit = leer_datos_predicciones()"
   ]
  },
  {
   "cell_type": "raw",
   "metadata": {},
   "source": [
    "anuncios = avisos_detalle.drop_duplicates(subset=['idaviso'])\n",
    "usuarios = postulantes.drop_duplicates(subset=['idpostulante'])\n",
    "union = submit.merge(usuarios, on='idpostulante',how='inner').merge(anuncios, on='idaviso',how='inner')\n",
    "\n",
    "venn2(subsets=(usuarios.shape[0],anuncios.shape[0],union.shape[0]), set_labels=('postulantes','avisos'))\n",
    "plt.title('Vistas de anuncios(datos a predecir)')\n",
    "plt.show()\n",
    "del anuncios, usuarios, union"
   ]
  },
  {
   "cell_type": "code",
   "execution_count": 11,
   "metadata": {},
   "outputs": [
    {
     "data": {
      "text/plain": [
       "datetime.date(2018, 2, 28)"
      ]
     },
     "execution_count": 11,
     "metadata": {},
     "output_type": "execute_result"
    }
   ],
   "source": [
    "postulaciones.reset_index().date[4]\n",
    "#postulaciones.date.min()\n",
    "#mindate =pd.to_datetime(vistas.timestamp).min()"
   ]
  },
  {
   "cell_type": "code",
   "execution_count": 22,
   "metadata": {},
   "outputs": [
    {
     "data": {
      "text/plain": [
       "0    2018-04-06T01:43:47.445-0400\n",
       "0    2018-02-23T13:38:13.187-0500\n",
       "Name: timestamp, dtype: object"
      ]
     },
     "execution_count": 22,
     "metadata": {},
     "output_type": "execute_result"
    }
   ],
   "source": [
    "vistas.timestamp[0]"
   ]
  },
  {
   "cell_type": "code",
   "execution_count": 25,
   "metadata": {},
   "outputs": [
    {
     "name": "stdout",
     "output_type": "stream",
     "text": [
      "solo el 66.10529962919551% de los anuncios postulados tiene vistas\n"
     ]
    },
    {
     "data": {
      "image/png": "[encoded data removed]",
      "text/plain": [
       "<Figure size 432x288 with 1 Axes>"
      ]
     },
     "metadata": {},
     "output_type": "display_data"
    }
   ],
   "source": [
    "venn2(\n",
    "    subsets=(\n",
    "        vistas.drop_duplicates().shape[0],\n",
    "        postulaciones.drop_duplicates().shape[0],\n",
    "        postulaciones.merge(vistas, how='inner',on=['idpostulante','idaviso']).drop_duplicates(subset=['idpostulante','idaviso']).shape[0]\n",
    "    ), set_labels=('visualizaciones de anuncios','postulaciones a anuncios')\n",
    ")\n",
    "plt.title('todas las postulaciones se corresponden con una vista?')\n",
    "print(\n",
    "    \"solo el {}% de los anuncios postulados tiene vistas\".format(\n",
    "        100*postulaciones.merge(vistas, how='inner',on=['idpostulante','idaviso']).drop_duplicates(subset=['idpostulante','idaviso']).shape[0]/postulaciones.drop_duplicates().shape[0]\n",
    "    )\n",
    ")\n",
    "plt.show()"
   ]
  },
  {
   "cell_type": "markdown",
   "metadata": {},
   "source": [
    "# Algunas exploraciones de cada archivo por separado"
   ]
  },
  {
   "cell_type": "code",
   "execution_count": null,
   "metadata": {},
   "outputs": [],
   "source": [
    "#Distribución de las postulaciones por dia del mes\n",
    "g_day = pd.to_datetime(postulaciones['date']).dt.day.hist(bins=31,edgecolor='black');\n",
    "g_day.set_title('Disitribucion de las postulaciones por día del mes',fontsize=15)\n",
    "g_day.set_xlabel('Dia')\n",
    "g_day.set_ylabel('Cantidad de postulaciones');"
   ]
  },
  {
   "cell_type": "code",
   "execution_count": null,
   "metadata": {},
   "outputs": [],
   "source": [
    "# ¿Será que uno se pone a buscar trabajo cuando se le empieza a acabar el sueldo?\n",
    "g_day = pd.to_datetime(postulaciones['date']).dt.day.hist(bins=4,edgecolor='black');"
   ]
  },
  {
   "cell_type": "code",
   "execution_count": null,
   "metadata": {
    "scrolled": true
   },
   "outputs": [],
   "source": [
    "enero = postulaciones['date'][pd.to_datetime(postulaciones['date']).dt.month == 1]\n",
    "enero = pd.DataFrame(enero)\n",
    "\n",
    "febrero = postulaciones['date'][pd.to_datetime(postulaciones['date']).dt.month == 2]\n",
    "febrero = pd.DataFrame(febrero)\n",
    "\n",
    "sizes = [enero.count(),febrero.count()]\n",
    "names = ['Enero', 'Febrero']\n",
    "\n",
    "plt.figure(figsize=(3, 3))\n",
    "plt.title('Distribucion de las postulaciones por mes', fontsize=15)\n",
    "plt.pie(sizes, labels=names, autopct='%1.1f%%', startangle=90, colors=['green', 'lightblue'], explode=(0.1, 0),shadow=True)\n",
    "plt.show()"
   ]
  },
  {
   "cell_type": "code",
   "execution_count": null,
   "metadata": {},
   "outputs": [],
   "source": [
    "# ¡Los datos empiezan a partir del 15/1!\n",
    "postulaciones['date'].min()"
   ]
  },
  {
   "cell_type": "markdown",
   "metadata": {},
   "source": [
    "Ambos graficos son engañosos.\n",
    "El primero muestra que hay mas postulaciones en la segunda mitad de los meses pero eso es porque los datos de Enero son solo de la segunda mitad del mes.\n",
    "De igual manera el sugundo grafico muestra que Enero tiene practicamente la mitad de postulaciones que Febrero.\n",
    "Tambien se debe a lo comentado anteriormente, solo hay datos de la segunda mitad de Enero."
   ]
  },
  {
   "cell_type": "code",
   "execution_count": null,
   "metadata": {},
   "outputs": [],
   "source": [
    "#Febrero tiene (casi)los dias completos\n",
    "febrero = postulaciones['date'][pd.to_datetime(postulaciones['date']).dt.month == 2]\n",
    "febrero = pd.DataFrame(febrero.unique()).sort_values(by=0, ascending=False)\n",
    "febrero"
   ]
  },
  {
   "cell_type": "code",
   "execution_count": null,
   "metadata": {},
   "outputs": [],
   "source": [
    "g_month_enero = pd.to_datetime(postulaciones['date'][pd.to_datetime(postulaciones['date']).dt.month == 1]).dt.day.hist(bins=17,edgecolor='black');\n",
    "g_month_enero.set_title('Distribucion de postulaciones durante Enero',fontsize=15)\n",
    "g_month_enero.set_xlabel('Dias')\n",
    "g_month_enero.set_ylabel('Cantidad de postulaciones');"
   ]
  },
  {
   "cell_type": "code",
   "execution_count": null,
   "metadata": {},
   "outputs": [],
   "source": [
    "g_month_febrero = pd.to_datetime(postulaciones['date'][pd.to_datetime(postulaciones['date']).dt.month == 2]).dt.day.hist(bins=28,edgecolor='black');\n",
    "g_month_febrero.set_title('Distribucion de postulaciones durante Febrero',fontsize=15)\n",
    "g_month_febrero.set_xlabel('Dias')\n",
    "g_month_febrero.set_ylabel('Cantidad de postulaciones');"
   ]
  },
  {
   "cell_type": "markdown",
   "metadata": {},
   "source": [
    "Ambos gráficos presentan 'bajones' de 2-3 días de duración: ¿Son fines de semana"
   ]
  },
  {
   "cell_type": "code",
   "execution_count": null,
   "metadata": {},
   "outputs": [],
   "source": [
    "postulaciones['weekday']= pd.to_datetime(postulaciones['date']).dt.dayofweek\n",
    "days = ['lunes','martes','miercoles','jueves','viernes','sabado','domingo']\n",
    "postulaciones['weekday'] = pd.Categorical(values=postulaciones['weekday'].values, ordered=True).rename_categories(days)\n",
    "postulaciones['weekday'].value_counts().sort_index().plot(kind='bar', title='Postulaciones por dia de semana')\n",
    "# Al hacer el gráfico, podemos ver que los fines de semana tienen muchas menos postulaciones\n",
    "# y que jueves y viernes son los dias de la semana con menos postulaciones."
   ]
  },
  {
   "cell_type": "code",
   "execution_count": null,
   "metadata": {},
   "outputs": [],
   "source": [
    "#este df contiene solo los dias entre el 15 y 28 de cada mes\n",
    "enero_febrero_igual_dias = pd.DataFrame(columns = ['date'])\n",
    "enero_febrero_igual_dias['date'] = postulaciones['date'][(pd.to_datetime(postulaciones['date']).dt.day > 14) & (pd.to_datetime(postulaciones['date']).dt.day < 29)]"
   ]
  },
  {
   "cell_type": "code",
   "execution_count": null,
   "metadata": {},
   "outputs": [],
   "source": [
    "hist_enero_edit = pd.to_datetime(enero_febrero_igual_dias['date'][pd.to_datetime(enero_febrero_igual_dias['date']).dt.month == 1]).dt.day.hist(bins=13,color= 'lightgreen');\n",
    "hist_enero_edit.set_title('Distribucion de postulaciones durante Enero(15-28)',fontsize=15)\n",
    "hist_enero_edit.set_xlabel('Dias')\n",
    "hist_enero_edit.set_ylabel('Cantidad de postulaciones');"
   ]
  },
  {
   "cell_type": "code",
   "execution_count": null,
   "metadata": {},
   "outputs": [],
   "source": [
    "hist_Febrero_edit = pd.to_datetime(enero_febrero_igual_dias['date'][pd.to_datetime(enero_febrero_igual_dias['date']).dt.month == 2]).dt.day.hist(bins=13,color='lightblue');\n",
    "hist_Febrero_edit.set_title('Distribucion de postulaciones durante Febrero(15-28)',fontsize=15)\n",
    "hist_Febrero_edit.set_xlabel('Dias')\n",
    "hist_Febrero_edit.set_ylabel('Cantidad de postulaciones');"
   ]
  },
  {
   "cell_type": "code",
   "execution_count": null,
   "metadata": {
    "scrolled": true
   },
   "outputs": [],
   "source": [
    "plt.hist(pd.to_datetime(enero_febrero_igual_dias['date']\n",
    "        [pd.to_datetime(enero_febrero_igual_dias['date']).dt.month == 2]).dt.day, bins=13,\n",
    "         color='lightblue',label= 'Febrero')\n",
    "plt.hist(pd.to_datetime(enero_febrero_igual_dias['date']\n",
    "        [pd.to_datetime(enero_febrero_igual_dias['date']).dt.month == 1]).dt.day,bins=13,\n",
    "         color='violet',alpha=0.5, label='Enero')\n",
    "plt.xlabel('Fechas')\n",
    "plt.ylabel('Cantidad de postulaciones')\n",
    "plt.title('Distribucion de las postulaciones entre el 15 y 28 de cada mes')\n",
    "plt.legend()\n",
    "plt.show()"
   ]
  },
  {
   "cell_type": "markdown",
   "metadata": {},
   "source": [
    "De esta última comparación se aprecia que el número de postulaciones es en general\n",
    "mayor para febrero, y que el último día de febrero presenta un pico muy alto en \n",
    "las postulaciones."
   ]
  },
  {
   "cell_type": "raw",
   "metadata": {},
   "source": [
    "post_educ_estado = educacion_postulantes['estado'].value_counts().sort_index().plot(kind='bar')\n",
    "post_educ_estado.set_title('Distribucion de postulaciones segun estado de la Educacion',fontsize=15)\n",
    "post_educ_estado.set_xlabel('Estado')\n",
    "post_educ_estado.set_ylabel('Cantidad de postulaciones');"
   ]
  },
  {
   "cell_type": "raw",
   "metadata": {},
   "source": [
    "#post_educ_carrera = np.log(educacion_postulantes['nombre'].value_counts() + 1).plot(kind='barh')\n",
    "#post_educ_carrera.set_title('Distribucion de postulaciones (log) segun la carrera',fontsize=15)\n",
    "#post_educ_carrera.set_ylabel('Nombre de la carrera')\n",
    "#post_educ_carrera.set_xlabel('Cantidad de postulaciones (log)');"
   ]
  },
  {
   "cell_type": "raw",
   "metadata": {
    "scrolled": false
   },
   "source": [
    "estado_y_carreras = educacion_postulantes[['nombre','estado']]\n",
    "benchs_number = 7\n",
    "benchs_names = ['Doctorado','Master','Otro','Posgrado','Secundario', 'Terciario/Tecnico','Universitario']\n",
    "\n",
    "arch_en_curso = estado_y_carreras[estado_y_carreras['estado'] == 'En Curso']\n",
    "arch_graduado = estado_y_carreras[estado_y_carreras['estado'] == 'Graduado']\n",
    "arch_abandonado = estado_y_carreras[estado_y_carreras['estado'] == 'Abandonado']\n",
    "\n",
    "#Uso una escala logaritmica asi se pueden ver mejor los datos en el grafico\n",
    "en_curso = np.log(arch_en_curso['nombre'].value_counts() +1).sort_index()\n",
    "abandonado = np.log(arch_abandonado['nombre'].value_counts() +1).sort_index()\n",
    "graduado = np.log(arch_graduado['nombre'].value_counts() +1).sort_index()\n",
    "\n",
    "index = np.arange(len(benchs_names))\n",
    "\n",
    "bar_width = 0.2\n",
    "opacity = 0.5\n",
    "\n",
    "plt.barh(index, en_curso, bar_width, alpha=0.7,color='y',label='En Curso')\n",
    "plt.barh(index+bar_width, abandonado, bar_width, alpha=0.7,color='r',label='Abandonado')\n",
    "plt.barh(index+2*bar_width, graduado, bar_width, alpha=0.7,color='g',label='Graduado')\n",
    "\n",
    "plt.grid(True, axis='x', linewidth=0.2)\n",
    "plt.title('Distribucion de postulaciones (log) segun el estado de cada carrera',fontsize = 15)\n",
    "plt.ylabel('Carreras')\n",
    "plt.xlabel('Cantidad de postulaciones (log)')\n",
    "plt.yticks(index + 2*bar_width, benchs_names)\n",
    "plt.legend()\n",
    "\n",
    "plt.tight_layout()\n",
    "plt.show()"
   ]
  },
  {
   "cell_type": "code",
   "execution_count": null,
   "metadata": {
    "scrolled": true
   },
   "outputs": [],
   "source": [
    "edad_postulantes = pd.DataFrame(columns=['edad'])\n",
    "edad_postulantes['edad'] = postulantes['edad'][(postulantes['edad'] > 17) & (postulantes['edad'] < 71)]\n",
    "edad_postulantes['edad'] = edad_postulantes['edad'].astype(int)\n",
    "edad_postulantes.sort_values(by='edad', ascending = True)"
   ]
  },
  {
   "cell_type": "code",
   "execution_count": null,
   "metadata": {},
   "outputs": [],
   "source": [
    "post_genero = postulantes['sexo'].value_counts().plot(kind='barh')\n",
    "post_genero.set_title('Distribucion de postulantes segun el genero',fontsize=15)\n",
    "post_genero.set_ylabel('Genero')\n",
    "post_genero.set_xlabel('Cantidad de postulaciones');"
   ]
  },
  {
   "cell_type": "code",
   "execution_count": null,
   "metadata": {},
   "outputs": [],
   "source": [
    "post_edad = edad_postulantes['edad'].value_counts().sort_index().plot(kind='line',color='green')\n",
    "post_edad.set_title('Distribucion de postulaciones segun la edad de los postulantes',fontsize=15)\n",
    "post_edad.set_xlabel('Edad')\n",
    "post_edad.set_ylabel('Cantidad de postulaciones');\n",
    "\n"
   ]
  },
  {
   "cell_type": "code",
   "execution_count": null,
   "metadata": {},
   "outputs": [],
   "source": [
    "plt.hist(postulantes[postulantes.sexo == 'FEM'].edad, bins='auto' ,color='pink',label= 'Postulantes Fememinas')\n",
    "plt.hist(postulantes[postulantes.sexo == 'MASC'].edad,bins='auto',color='darkblue',alpha=0.3, label='Postulantes Masculinos')\n",
    "plt.hist(postulantes[postulantes.sexo == 'NO_DECLARA'].edad,bins='auto',color='red',alpha=0.5, label='Postulantes sin sexo declarado')\n",
    "\n",
    "plt.xlabel('Edad')\n",
    "plt.ylabel('Cantidad de postulaciones')\n",
    "plt.title('Distribucion de las postulaciones segun edad y el genero')\n",
    "plt.xlim((15,80))\n",
    "plt.legend()\n",
    "plt.show()"
   ]
  },
  {
   "cell_type": "code",
   "execution_count": null,
   "metadata": {},
   "outputs": [],
   "source": [
    "#avisos_nivel_laboral = avisos_detalle['nivel_laboral'].value_counts().plot(kind='bar')\n",
    "#avisos_nivel_laboral.set_title('Distribucion de los avisos laborales segun el nivel laboral pedido',fontsize=15)\n",
    "#avisos_nivel_laboral.set_xlabel('Cantidad de avisos')\n",
    "#avisos_nivel_laboral.set_ylabel('Nivel laboral');\n",
    "\n",
    "avisos_detalle#['nivel_laboral'].value_counts()"
   ]
  },
  {
   "cell_type": "code",
   "execution_count": null,
   "metadata": {},
   "outputs": [],
   "source": [
    "avisos_tipo_de_trabajo = np.log(avisos_detalle['tipo_de_trabajo'].value_counts()+1).plot(kind='barh')\n",
    "avisos_tipo_de_trabajo.set_title('Distribucion de los avisos (log) laborales segun el tipo de trabajo pedido',fontsize=15)\n",
    "avisos_tipo_de_trabajo.set_ylabel('Tipo de trabajo')\n",
    "avisos_tipo_de_trabajo.set_xlabel('Cantidad de avisos (log)');\n",
    "\n",
    "avisos_detalle['tipo_de_trabajo'].value_counts().sum()"
   ]
  },
  {
   "cell_type": "code",
   "execution_count": null,
   "metadata": {},
   "outputs": [],
   "source": [
    "avisos_zona = np.log(avisos_detalle['nombre_zona'].value_counts() + 1).sort_index().plot(kind='bar')\n",
    "avisos_zona.set_title('Distribucion de los avisos laborales segun la zona de trabajo',fontsize=15)\n",
    "avisos_zona.set_xlabel('Zona')\n",
    "avisos_zona.set_ylabel('Cantidad de avisos (log)');\n",
    "\n",
    "avisos_detalle['nombre_zona'].value_counts()"
   ]
  },
  {
   "cell_type": "markdown",
   "metadata": {},
   "source": [
    "# Merge de los datos\n",
    "recuerdo la forma de los datasets"
   ]
  },
  {
   "cell_type": "code",
   "execution_count": null,
   "metadata": {
    "scrolled": false
   },
   "outputs": [],
   "source": [
    "hist_educacion = postulantes['nivel_educativo'].value_counts().plot(logy=True, kind='bar')\n",
    "hist_educacion.set_title('Cantidad de postulantes por nivel educativo')\n",
    "hist_educacion.set_xlabel('Nivel educativo')\n",
    "hist_educacion.set_ylabel('Cantidad de postulantes(log)')"
   ]
  },
  {
   "cell_type": "code",
   "execution_count": null,
   "metadata": {},
   "outputs": [],
   "source": [
    "scatter_anuncios_vistos = postulantes.groupby('nivel_educativo').mean()['anuncios_vistos'].plot(kind='bar')\n",
    "scatter_anuncios_vistos.set_title('Cantidad de anuncios vistos por nivel educativo')\n",
    "scatter_anuncios_vistos.set_xlabel('Nivel educativo')\n",
    "scatter_anuncios_vistos.set_ylabel('Cantidad de anuncios vistos por postulante(media)')"
   ]
  }
 ],
 "metadata": {
  "kernelspec": {
   "display_name": "Python 3",
   "language": "python",
   "name": "python3"
  },
  "language_info": {
   "codemirror_mode": {
    "name": "ipython",
    "version": 3
   },
   "file_extension": ".py",
   "mimetype": "text/x-python",
   "name": "python",
   "nbconvert_exporter": "python",
   "pygments_lexer": "ipython3",
   "version": "3.6.5"
  }
 },
 "nbformat": 4,
 "nbformat_minor": 2
}
