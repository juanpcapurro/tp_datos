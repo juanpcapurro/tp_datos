{
 "cells": [
  {
   "cell_type": "code",
   "execution_count": 23,
   "metadata": {},
   "outputs": [
    {
     "data": {
      "text/html": [
       "<style>.container { width:100% !important; }</style>"
      ],
      "text/plain": [
       "<IPython.core.display.HTML object>"
      ]
     },
     "metadata": {},
     "output_type": "display_data"
    }
   ],
   "source": [
    "import matplotlib.pyplot as plt\n",
    "import numpy as np\n",
    "import seaborn as sbn\n",
    "import pandas as pd\n",
    "import datetime\n",
    "import time\n",
    "from pandas.api.types import CategoricalDtype\n",
    "\n",
    "%matplotlib inline\n",
    "from IPython.core.display import display, HTML\n",
    "display(HTML(\"<style>.container { width:100% !important; }</style>\"))\n",
    "plt.style.use('default') \n",
    "sbn.set(style=\"whitegrid\") "
   ]
  },
  {
   "cell_type": "markdown",
   "metadata": {},
   "source": [
    "# **Satinización de archivos de edad y genero**"
   ]
  },
  {
   "cell_type": "code",
   "execution_count": 43,
   "metadata": {},
   "outputs": [],
   "source": [
    "#Antes que nada, me intriga si los archivos de 'datos_navent' y los de 'hasta15/4' tienen overlap, son redundantes o consecutivos\n",
    "genero_edad_navent = pd.read_csv('datos/datos_navent/fiuba_2_postulantes_genero_y_edad.csv')\n",
    "genero_edad_hasta_15_4 = pd.read_csv('datos/hasta_15_4/fiuba_2_postulantes_genero_y_edad.csv')\n",
    "genero_edad_desde_15_4 = pd.read_csv('datos/desde_15_4/fiuba_2_postulantes_genero_y_edad.csv')\n",
    "genero_edad_postulantes = genero_edad_navent.merge(genero_edad_hasta_15_4, on=['idpostulante','fechanacimiento','sexo'], how='outer')"
   ]
  },
  {
   "cell_type": "code",
   "execution_count": 27,
   "metadata": {},
   "outputs": [
    {
     "name": "stdout",
     "output_type": "stream",
     "text": [
      "tamaño archivo navent 602664\n",
      "tamaño archivo hasta_15_4 893241\n",
      "tamaño archivo desde_15_4 844155\n",
      "tamaño archivo merge postulantes 1224438\n",
      "       idpostulante      fechanacimiento    sexo\n",
      "count        408146               388502  408146\n",
      "unique       408146                16866       3\n",
      "top         5mq85Zv  1991-06-20 00:00:00     FEM\n",
      "freq              1                   89  204651\n",
      "FEM           204651\n",
      "MASC          184467\n",
      "NO_DECLARA     19028\n",
      "Name: sexo, dtype: int64\n"
     ]
    },
    {
     "data": {
      "text/html": [
       "<div>\n",
       "<style scoped>\n",
       "    .dataframe tbody tr th:only-of-type {\n",
       "        vertical-align: middle;\n",
       "    }\n",
       "\n",
       "    .dataframe tbody tr th {\n",
       "        vertical-align: top;\n",
       "    }\n",
       "\n",
       "    .dataframe thead th {\n",
       "        text-align: right;\n",
       "    }\n",
       "</style>\n",
       "<table border=\"1\" class=\"dataframe\">\n",
       "  <thead>\n",
       "    <tr style=\"text-align: right;\">\n",
       "      <th></th>\n",
       "      <th>idpostulante</th>\n",
       "      <th>fechanacimiento</th>\n",
       "      <th>sexo</th>\n",
       "    </tr>\n",
       "  </thead>\n",
       "  <tbody>\n",
       "    <tr>\n",
       "      <th>0</th>\n",
       "      <td>NM5M</td>\n",
       "      <td>1970-12-03 00:00:00</td>\n",
       "      <td>FEM</td>\n",
       "    </tr>\n",
       "    <tr>\n",
       "      <th>1</th>\n",
       "      <td>5awk</td>\n",
       "      <td>1962-12-04 00:00:00</td>\n",
       "      <td>FEM</td>\n",
       "    </tr>\n",
       "    <tr>\n",
       "      <th>2</th>\n",
       "      <td>ZaO5</td>\n",
       "      <td>1978-08-10 00:00:00</td>\n",
       "      <td>FEM</td>\n",
       "    </tr>\n",
       "    <tr>\n",
       "      <th>3</th>\n",
       "      <td>NdJl</td>\n",
       "      <td>1969-05-09 00:00:00</td>\n",
       "      <td>MASC</td>\n",
       "    </tr>\n",
       "    <tr>\n",
       "      <th>4</th>\n",
       "      <td>eo2p</td>\n",
       "      <td>1981-02-16 00:00:00</td>\n",
       "      <td>MASC</td>\n",
       "    </tr>\n",
       "  </tbody>\n",
       "</table>\n",
       "</div>"
      ],
      "text/plain": [
       "  idpostulante      fechanacimiento  sexo\n",
       "0         NM5M  1970-12-03 00:00:00   FEM\n",
       "1         5awk  1962-12-04 00:00:00   FEM\n",
       "2         ZaO5  1978-08-10 00:00:00   FEM\n",
       "3         NdJl  1969-05-09 00:00:00  MASC\n",
       "4         eo2p  1981-02-16 00:00:00  MASC"
      ]
     },
     "execution_count": 27,
     "metadata": {},
     "output_type": "execute_result"
    }
   ],
   "source": [
    "print(\"tamaño archivo navent {}\".format(genero_edad_navent.size))\n",
    "print(\"tamaño archivo hasta_15_4 {}\".format(genero_edad_hasta_15_4.size))\n",
    "print(\"tamaño archivo desde_15_4 {}\".format(genero_edad_desde_15_4.size))\n",
    "print(\"tamaño archivo merge postulantes {}\".format(genero_edad_postulantes.size))\n",
    "def postulantes_str2timestamp(s): # debo\n",
    "    if type(s) is datetime.datetime:\n",
    "        return s\n",
    "    try:\n",
    "        return datetime.datetime.strptime(s, '%Y-%m-%d')\n",
    "    except:\n",
    "        return None\n",
    "print (genero_edad_postulantes.describe()) #veo que hay repetidos por id\n",
    "print (genero_edad_postulantes['sexo'].value_counts()) #veo que hay gente (4) con sexo '0'\n",
    "genero_edad_postulantes.dtypes\n",
    "# Genero una funcion para satinizar archivos de postulantes_genero_edad\n",
    "genero_categoria = CategoricalDtype(categories=[\"MASC\",\"FEM\",\"NO_DECLARA\"], ordered=False)\n",
    "def satinize_postulante_genero_edad(df):\n",
    "    df['sexo'] = df['sexo'].astype(genero_categoria).fillna(\"NO_DECLARA\")\n",
    "    df = df.drop_duplicates(subset='idpostulante')\n",
    "    df['fechanacimiento']= df['fechanacimiento'].map(postulantes_str2timestamp)\n",
    "    return df\n",
    "genero_edad_postulantes = satinize_postulante_genero_edad(genero_edad_postulantes)\n",
    "genero_edad_postulantes.head()"
   ]
  },
  {
   "cell_type": "markdown",
   "metadata": {},
   "source": [
    "## postulaciones"
   ]
  },
  {
   "cell_type": "code",
   "execution_count": 41,
   "metadata": {},
   "outputs": [
    {
     "name": "stdout",
     "output_type": "stream",
     "text": [
      "5120190\n",
      "5120190\n",
      "      idaviso idpostulante     fechapostulacion\n",
      "0  1112286523         ZaO5  2018-01-24 15:07:39\n",
      "1  1112272060         ZaO5  2018-01-24 15:20:10\n",
      "2  1112288401         ZaO5  2018-01-26 08:37:04\n",
      "3  1112300563         ZaO5  2018-01-30 13:35:48\n",
      "4  1112293018         ZaO5  2018-01-31 08:41:05\n",
      "      idaviso idpostulante     fechapostulacion        date      time\n",
      "0  1112286523         ZaO5  2018-01-24 15:07:39  2018-01-24  15:07:39\n",
      "1  1112272060         ZaO5  2018-01-24 15:20:10  2018-01-24  15:20:10\n",
      "2  1112288401         ZaO5  2018-01-26 08:37:04  2018-01-26  08:37:04\n",
      "3  1112300563         ZaO5  2018-01-30 13:35:48  2018-01-30  13:35:48\n",
      "4  1112293018         ZaO5  2018-01-31 08:41:05  2018-01-31  08:41:05\n"
     ]
    }
   ],
   "source": [
    "postulaciones = pd.read_csv(\n",
    "    'datos/datos_navent/fiuba_4_postulaciones.csv'\n",
    ").merge(pd.read_csv('datos/hasta_15_4/fiuba_4_postulaciones.csv'))\n",
    "print(postulaciones.size)\n",
    "print(postulaciones.drop_duplicates().size) #no hay duplicados!\n",
    "print(postulaciones.head())\n",
    "def sanitize_postulaciones(df):\n",
    "    postulaciones['date'] = pd.to_datetime(postulaciones['fechapostulacion']).dt.date\n",
    "    postulaciones['time'] = pd.to_datetime(postulaciones['fechapostulacion']).dt.time\n",
    "    return postulaciones.copy()\n",
    "postulaciones = sanitize_postulaciones(postulaciones)\n",
    "print(postulaciones.head())"
   ]
  },
  {
   "cell_type": "markdown",
   "metadata": {},
   "source": [
    "## Archivo 'avisos_detalle'"
   ]
  },
  {
   "cell_type": "code",
   "execution_count": 77,
   "metadata": {},
   "outputs": [],
   "source": [
    "avisos_detalle = pd.read_csv(\n",
    "    'datos/datos_navent/fiuba_6_avisos_detalle.csv'\n",
    ").merge(pd.read_csv('datos/hasta_15_4/fiuba_6_avisos_detalle.csv'))\n",
    "avisos_detalle.isnull().any()\n",
    "#ESTE DF TIENE MUCHOS DATOS NULOS EN LAS COLUMNAS DE 'CIUDAD' y 'MAPACALLE'. \n",
    "#Decidimos eliminarlas ya que no nos parecieron muy relevantes para el analisis\n",
    "#idpais solo tiene valor 1, la descripcion nunca es nula\n",
    "#avisos_detalle.drop('descripcion',1,inplace=True)\n",
    "tipo_trabajo = CategoricalDtype(\n",
    "    categories=[\"Full-time\",\"Part-time\",\"Teletrabajo\",\"Por Horas\",\"Pasantia\",\"Temporario\",\"Por Contrato\",\"Fines de Semana\",\"Primer empleo\"],\n",
    "    ordered=True #de 'mas fijo' a 'menos fijo'\n",
    ")\n",
    "avisos_detalle.nombre_area.value_counts()# hay muchas areas, no van a tener su propia categoria\n",
    "def sanitize_aviso_detalle(df):\n",
    "    df['tipo_de_trabajo'] = df['tipo_de_trabajo'].astype(tipo_trabajo)\n",
    "    return df.drop(['ciudad','idpais','mapacalle'],1)\n",
    "avisos_detalle = sanitize_aviso_detalle(avisos_detalle)"
   ]
  },
  {
   "cell_type": "markdown",
   "metadata": {},
   "source": [
    "## Archivo 'educacion_postulantes'"
   ]
  },
  {
   "cell_type": "code",
   "execution_count": 69,
   "metadata": {},
   "outputs": [
    {
     "data": {
      "text/plain": [
       "idpostulante    False\n",
       "nombre          False\n",
       "estado          False\n",
       "dtype: bool"
      ]
     },
     "execution_count": 69,
     "metadata": {},
     "output_type": "execute_result"
    }
   ],
   "source": [
    "educacion_postulantes = pd.read_csv(\n",
    "    'datos/datos_navent/fiuba_1_postulantes_educacion.csv'\n",
    ").merge(pd.read_csv('datos/hasta_15_4/fiuba_1_postulantes_educacion.csv'))\n",
    "educacion_postulantes.isna().any() #no hay nulos\n",
    "educacion_postulantes.duplicated().value_counts()#ni duplicados"
   ]
  },
  {
   "cell_type": "markdown",
   "metadata": {},
   "source": [
    "# Genero nivel_educativo, completando el dataframe de postulantes"
   ]
  },
  {
   "cell_type": "code",
   "execution_count": 110,
   "metadata": {},
   "outputs": [
    {
     "data": {
      "text/html": [
       "<div>\n",
       "<style scoped>\n",
       "    .dataframe tbody tr th:only-of-type {\n",
       "        vertical-align: middle;\n",
       "    }\n",
       "\n",
       "    .dataframe tbody tr th {\n",
       "        vertical-align: top;\n",
       "    }\n",
       "\n",
       "    .dataframe thead th {\n",
       "        text-align: right;\n",
       "    }\n",
       "</style>\n",
       "<table border=\"1\" class=\"dataframe\">\n",
       "  <thead>\n",
       "    <tr style=\"text-align: right;\">\n",
       "      <th></th>\n",
       "      <th>idpostulante</th>\n",
       "      <th>fechanacimiento</th>\n",
       "      <th>sexo</th>\n",
       "      <th>nivel_educativo</th>\n",
       "    </tr>\n",
       "  </thead>\n",
       "  <tbody>\n",
       "    <tr>\n",
       "      <th>0</th>\n",
       "      <td>ZaO5</td>\n",
       "      <td>1978-08-10</td>\n",
       "      <td>FEM</td>\n",
       "      <td>Terciario/Técnico</td>\n",
       "    </tr>\n",
       "    <tr>\n",
       "      <th>1</th>\n",
       "      <td>NdJl</td>\n",
       "      <td>1969-05-09</td>\n",
       "      <td>MASC</td>\n",
       "      <td>Universitario</td>\n",
       "    </tr>\n",
       "    <tr>\n",
       "      <th>2</th>\n",
       "      <td>8BkL</td>\n",
       "      <td>1976-07-21</td>\n",
       "      <td>FEM</td>\n",
       "      <td>Master</td>\n",
       "    </tr>\n",
       "    <tr>\n",
       "      <th>3</th>\n",
       "      <td>NPBx</td>\n",
       "      <td>1981-03-09</td>\n",
       "      <td>MASC</td>\n",
       "      <td>Universitario</td>\n",
       "    </tr>\n",
       "    <tr>\n",
       "      <th>4</th>\n",
       "      <td>YGBY</td>\n",
       "      <td>1963-04-09</td>\n",
       "      <td>FEM</td>\n",
       "      <td>Terciario/Técnico</td>\n",
       "    </tr>\n",
       "    <tr>\n",
       "      <th>5</th>\n",
       "      <td>6aGl</td>\n",
       "      <td>1967-01-30</td>\n",
       "      <td>FEM</td>\n",
       "      <td>Posgrado</td>\n",
       "    </tr>\n",
       "    <tr>\n",
       "      <th>6</th>\n",
       "      <td>10bb</td>\n",
       "      <td>1954-08-30</td>\n",
       "      <td>MASC</td>\n",
       "      <td>Universitario</td>\n",
       "    </tr>\n",
       "    <tr>\n",
       "      <th>7</th>\n",
       "      <td>eWO2</td>\n",
       "      <td>1959-01-05</td>\n",
       "      <td>MASC</td>\n",
       "      <td>Posgrado</td>\n",
       "    </tr>\n",
       "    <tr>\n",
       "      <th>8</th>\n",
       "      <td>6Kbl</td>\n",
       "      <td>1976-09-03</td>\n",
       "      <td>MASC</td>\n",
       "      <td>Master</td>\n",
       "    </tr>\n",
       "    <tr>\n",
       "      <th>9</th>\n",
       "      <td>ZqWb</td>\n",
       "      <td>1971-11-08</td>\n",
       "      <td>MASC</td>\n",
       "      <td>Master</td>\n",
       "    </tr>\n",
       "    <tr>\n",
       "      <th>10</th>\n",
       "      <td>ZKl5</td>\n",
       "      <td>1974-05-06</td>\n",
       "      <td>MASC</td>\n",
       "      <td>Universitario</td>\n",
       "    </tr>\n",
       "    <tr>\n",
       "      <th>11</th>\n",
       "      <td>N2Vx</td>\n",
       "      <td>1966-05-30</td>\n",
       "      <td>MASC</td>\n",
       "      <td>Universitario</td>\n",
       "    </tr>\n",
       "    <tr>\n",
       "      <th>12</th>\n",
       "      <td>EDD99</td>\n",
       "      <td>1966-03-01</td>\n",
       "      <td>FEM</td>\n",
       "      <td>Universitario</td>\n",
       "    </tr>\n",
       "    <tr>\n",
       "      <th>13</th>\n",
       "      <td>ED0l4</td>\n",
       "      <td>1969-07-17</td>\n",
       "      <td>MASC</td>\n",
       "      <td>Posgrado</td>\n",
       "    </tr>\n",
       "    <tr>\n",
       "      <th>14</th>\n",
       "      <td>NAMRl</td>\n",
       "      <td>1976-01-25</td>\n",
       "      <td>MASC</td>\n",
       "      <td>Universitario</td>\n",
       "    </tr>\n",
       "    <tr>\n",
       "      <th>15</th>\n",
       "      <td>Y0Q2Z</td>\n",
       "      <td>1966-06-29</td>\n",
       "      <td>MASC</td>\n",
       "      <td>Universitario</td>\n",
       "    </tr>\n",
       "    <tr>\n",
       "      <th>16</th>\n",
       "      <td>ZjDRz</td>\n",
       "      <td>1967-06-04</td>\n",
       "      <td>MASC</td>\n",
       "      <td>Master</td>\n",
       "    </tr>\n",
       "    <tr>\n",
       "      <th>17</th>\n",
       "      <td>Y043Z</td>\n",
       "      <td>1979-03-24</td>\n",
       "      <td>MASC</td>\n",
       "      <td>Terciario/Técnico</td>\n",
       "    </tr>\n",
       "    <tr>\n",
       "      <th>18</th>\n",
       "      <td>eRpw9</td>\n",
       "      <td>1972-06-29</td>\n",
       "      <td>MASC</td>\n",
       "      <td>Universitario</td>\n",
       "    </tr>\n",
       "    <tr>\n",
       "      <th>19</th>\n",
       "      <td>ZjZXZ</td>\n",
       "      <td>1968-10-15</td>\n",
       "      <td>MASC</td>\n",
       "      <td>Universitario</td>\n",
       "    </tr>\n",
       "    <tr>\n",
       "      <th>20</th>\n",
       "      <td>6k8vl</td>\n",
       "      <td>1973-09-16</td>\n",
       "      <td>MASC</td>\n",
       "      <td>Terciario/Técnico</td>\n",
       "    </tr>\n",
       "    <tr>\n",
       "      <th>21</th>\n",
       "      <td>NA9QM</td>\n",
       "      <td>1973-01-10</td>\n",
       "      <td>FEM</td>\n",
       "      <td>Posgrado</td>\n",
       "    </tr>\n",
       "    <tr>\n",
       "      <th>22</th>\n",
       "      <td>Zje28</td>\n",
       "      <td>1974-05-25</td>\n",
       "      <td>MASC</td>\n",
       "      <td>Universitario</td>\n",
       "    </tr>\n",
       "    <tr>\n",
       "      <th>23</th>\n",
       "      <td>aRGRm</td>\n",
       "      <td>1987-10-08</td>\n",
       "      <td>FEM</td>\n",
       "      <td>Universitario</td>\n",
       "    </tr>\n",
       "    <tr>\n",
       "      <th>24</th>\n",
       "      <td>5a1wz</td>\n",
       "      <td>1979-05-23</td>\n",
       "      <td>FEM</td>\n",
       "      <td>Universitario</td>\n",
       "    </tr>\n",
       "    <tr>\n",
       "      <th>25</th>\n",
       "      <td>YoEJV</td>\n",
       "      <td>1968-03-26</td>\n",
       "      <td>FEM</td>\n",
       "      <td>Posgrado</td>\n",
       "    </tr>\n",
       "    <tr>\n",
       "      <th>26</th>\n",
       "      <td>EpAmJ</td>\n",
       "      <td>1974-10-01</td>\n",
       "      <td>MASC</td>\n",
       "      <td>Posgrado</td>\n",
       "    </tr>\n",
       "    <tr>\n",
       "      <th>27</th>\n",
       "      <td>ZaZWE</td>\n",
       "      <td>1977-10-17</td>\n",
       "      <td>MASC</td>\n",
       "      <td>Posgrado</td>\n",
       "    </tr>\n",
       "    <tr>\n",
       "      <th>28</th>\n",
       "      <td>8Zv0D</td>\n",
       "      <td>1970-09-29</td>\n",
       "      <td>FEM</td>\n",
       "      <td>Universitario</td>\n",
       "    </tr>\n",
       "    <tr>\n",
       "      <th>29</th>\n",
       "      <td>abpEZ</td>\n",
       "      <td>1977-08-30</td>\n",
       "      <td>MASC</td>\n",
       "      <td>Universitario</td>\n",
       "    </tr>\n",
       "    <tr>\n",
       "      <th>...</th>\n",
       "      <td>...</td>\n",
       "      <td>...</td>\n",
       "      <td>...</td>\n",
       "      <td>...</td>\n",
       "    </tr>\n",
       "    <tr>\n",
       "      <th>69899</th>\n",
       "      <td>Yj5B5Yr</td>\n",
       "      <td>1995-06-02</td>\n",
       "      <td>MASC</td>\n",
       "      <td>Secundario</td>\n",
       "    </tr>\n",
       "    <tr>\n",
       "      <th>69900</th>\n",
       "      <td>ow2p214</td>\n",
       "      <td>NaN</td>\n",
       "      <td>NO_DECLARA</td>\n",
       "      <td>Terciario/Técnico</td>\n",
       "    </tr>\n",
       "    <tr>\n",
       "      <th>69901</th>\n",
       "      <td>96XvXe8</td>\n",
       "      <td>1995-12-14</td>\n",
       "      <td>FEM</td>\n",
       "      <td>Otro</td>\n",
       "    </tr>\n",
       "    <tr>\n",
       "      <th>69902</th>\n",
       "      <td>zvabaJ8</td>\n",
       "      <td>1993-08-07</td>\n",
       "      <td>FEM</td>\n",
       "      <td>Universitario</td>\n",
       "    </tr>\n",
       "    <tr>\n",
       "      <th>69903</th>\n",
       "      <td>bOjXw0V</td>\n",
       "      <td>1994-11-28</td>\n",
       "      <td>FEM</td>\n",
       "      <td>Secundario</td>\n",
       "    </tr>\n",
       "    <tr>\n",
       "      <th>69904</th>\n",
       "      <td>mzdNo21</td>\n",
       "      <td>1985-11-09</td>\n",
       "      <td>MASC</td>\n",
       "      <td>Secundario</td>\n",
       "    </tr>\n",
       "    <tr>\n",
       "      <th>69905</th>\n",
       "      <td>Ezem8D2</td>\n",
       "      <td>1996-06-20</td>\n",
       "      <td>FEM</td>\n",
       "      <td>Universitario</td>\n",
       "    </tr>\n",
       "    <tr>\n",
       "      <th>69906</th>\n",
       "      <td>VNr0DER</td>\n",
       "      <td>1994-10-03</td>\n",
       "      <td>MASC</td>\n",
       "      <td>Secundario</td>\n",
       "    </tr>\n",
       "    <tr>\n",
       "      <th>69907</th>\n",
       "      <td>X95JXrJ</td>\n",
       "      <td>1974-07-19</td>\n",
       "      <td>MASC</td>\n",
       "      <td>Secundario</td>\n",
       "    </tr>\n",
       "    <tr>\n",
       "      <th>69908</th>\n",
       "      <td>xkd659j</td>\n",
       "      <td>1991-09-16</td>\n",
       "      <td>FEM</td>\n",
       "      <td>Otro</td>\n",
       "    </tr>\n",
       "    <tr>\n",
       "      <th>69909</th>\n",
       "      <td>1QPMbQB</td>\n",
       "      <td>1996-03-25</td>\n",
       "      <td>MASC</td>\n",
       "      <td>Secundario</td>\n",
       "    </tr>\n",
       "    <tr>\n",
       "      <th>69910</th>\n",
       "      <td>VNr0DvD</td>\n",
       "      <td>1975-05-20</td>\n",
       "      <td>FEM</td>\n",
       "      <td>Terciario/Técnico</td>\n",
       "    </tr>\n",
       "    <tr>\n",
       "      <th>69911</th>\n",
       "      <td>pzdkxGZ</td>\n",
       "      <td>1976-04-25</td>\n",
       "      <td>MASC</td>\n",
       "      <td>Secundario</td>\n",
       "    </tr>\n",
       "    <tr>\n",
       "      <th>69912</th>\n",
       "      <td>pzdkx4b</td>\n",
       "      <td>1994-07-02</td>\n",
       "      <td>MASC</td>\n",
       "      <td>Universitario</td>\n",
       "    </tr>\n",
       "    <tr>\n",
       "      <th>69913</th>\n",
       "      <td>RzrQvko</td>\n",
       "      <td>1998-06-30</td>\n",
       "      <td>MASC</td>\n",
       "      <td>Secundario</td>\n",
       "    </tr>\n",
       "    <tr>\n",
       "      <th>69914</th>\n",
       "      <td>3NP0EjP</td>\n",
       "      <td>1998-03-06</td>\n",
       "      <td>MASC</td>\n",
       "      <td>Secundario</td>\n",
       "    </tr>\n",
       "    <tr>\n",
       "      <th>69915</th>\n",
       "      <td>VNr0Ddz</td>\n",
       "      <td>1981-08-08</td>\n",
       "      <td>MASC</td>\n",
       "      <td>Secundario</td>\n",
       "    </tr>\n",
       "    <tr>\n",
       "      <th>69916</th>\n",
       "      <td>kPjREvV</td>\n",
       "      <td>1994-05-07</td>\n",
       "      <td>FEM</td>\n",
       "      <td>Secundario</td>\n",
       "    </tr>\n",
       "    <tr>\n",
       "      <th>69917</th>\n",
       "      <td>ZDr9XxP</td>\n",
       "      <td>1997-07-30</td>\n",
       "      <td>MASC</td>\n",
       "      <td>Secundario</td>\n",
       "    </tr>\n",
       "    <tr>\n",
       "      <th>69918</th>\n",
       "      <td>lDLj9VR</td>\n",
       "      <td>1999-12-24</td>\n",
       "      <td>FEM</td>\n",
       "      <td>Secundario</td>\n",
       "    </tr>\n",
       "    <tr>\n",
       "      <th>69919</th>\n",
       "      <td>rmdlBxx</td>\n",
       "      <td>1999-06-16</td>\n",
       "      <td>FEM</td>\n",
       "      <td>Secundario</td>\n",
       "    </tr>\n",
       "    <tr>\n",
       "      <th>69920</th>\n",
       "      <td>qe21A9X</td>\n",
       "      <td>1997-08-15</td>\n",
       "      <td>MASC</td>\n",
       "      <td>Secundario</td>\n",
       "    </tr>\n",
       "    <tr>\n",
       "      <th>69921</th>\n",
       "      <td>8MPox8j</td>\n",
       "      <td>1995-08-04</td>\n",
       "      <td>MASC</td>\n",
       "      <td>Secundario</td>\n",
       "    </tr>\n",
       "    <tr>\n",
       "      <th>69922</th>\n",
       "      <td>8MPoxGz</td>\n",
       "      <td>1999-03-24</td>\n",
       "      <td>FEM</td>\n",
       "      <td>Secundario</td>\n",
       "    </tr>\n",
       "    <tr>\n",
       "      <th>69923</th>\n",
       "      <td>ow2p8Wr</td>\n",
       "      <td>1997-01-05</td>\n",
       "      <td>FEM</td>\n",
       "      <td>Secundario</td>\n",
       "    </tr>\n",
       "    <tr>\n",
       "      <th>69924</th>\n",
       "      <td>pzdkx1p</td>\n",
       "      <td>1997-10-02</td>\n",
       "      <td>MASC</td>\n",
       "      <td>Secundario</td>\n",
       "    </tr>\n",
       "    <tr>\n",
       "      <th>69925</th>\n",
       "      <td>akjVlK9</td>\n",
       "      <td>1988-05-31</td>\n",
       "      <td>FEM</td>\n",
       "      <td>Secundario</td>\n",
       "    </tr>\n",
       "    <tr>\n",
       "      <th>69926</th>\n",
       "      <td>ow2p8vk</td>\n",
       "      <td>1990-03-21</td>\n",
       "      <td>FEM</td>\n",
       "      <td>Secundario</td>\n",
       "    </tr>\n",
       "    <tr>\n",
       "      <th>69927</th>\n",
       "      <td>mzdNorY</td>\n",
       "      <td>NaN</td>\n",
       "      <td>FEM</td>\n",
       "      <td>Secundario</td>\n",
       "    </tr>\n",
       "    <tr>\n",
       "      <th>69928</th>\n",
       "      <td>8MPoxDW</td>\n",
       "      <td>1997-07-07</td>\n",
       "      <td>MASC</td>\n",
       "      <td>Secundario</td>\n",
       "    </tr>\n",
       "  </tbody>\n",
       "</table>\n",
       "<p>69929 rows × 4 columns</p>\n",
       "</div>"
      ],
      "text/plain": [
       "      idpostulante fechanacimiento        sexo    nivel_educativo\n",
       "0             ZaO5      1978-08-10         FEM  Terciario/Técnico\n",
       "1             NdJl      1969-05-09        MASC      Universitario\n",
       "2             8BkL      1976-07-21         FEM             Master\n",
       "3             NPBx      1981-03-09        MASC      Universitario\n",
       "4             YGBY      1963-04-09         FEM  Terciario/Técnico\n",
       "5             6aGl      1967-01-30         FEM           Posgrado\n",
       "6             10bb      1954-08-30        MASC      Universitario\n",
       "7             eWO2      1959-01-05        MASC           Posgrado\n",
       "8             6Kbl      1976-09-03        MASC             Master\n",
       "9             ZqWb      1971-11-08        MASC             Master\n",
       "10            ZKl5      1974-05-06        MASC      Universitario\n",
       "11            N2Vx      1966-05-30        MASC      Universitario\n",
       "12           EDD99      1966-03-01         FEM      Universitario\n",
       "13           ED0l4      1969-07-17        MASC           Posgrado\n",
       "14           NAMRl      1976-01-25        MASC      Universitario\n",
       "15           Y0Q2Z      1966-06-29        MASC      Universitario\n",
       "16           ZjDRz      1967-06-04        MASC             Master\n",
       "17           Y043Z      1979-03-24        MASC  Terciario/Técnico\n",
       "18           eRpw9      1972-06-29        MASC      Universitario\n",
       "19           ZjZXZ      1968-10-15        MASC      Universitario\n",
       "20           6k8vl      1973-09-16        MASC  Terciario/Técnico\n",
       "21           NA9QM      1973-01-10         FEM           Posgrado\n",
       "22           Zje28      1974-05-25        MASC      Universitario\n",
       "23           aRGRm      1987-10-08         FEM      Universitario\n",
       "24           5a1wz      1979-05-23         FEM      Universitario\n",
       "25           YoEJV      1968-03-26         FEM           Posgrado\n",
       "26           EpAmJ      1974-10-01        MASC           Posgrado\n",
       "27           ZaZWE      1977-10-17        MASC           Posgrado\n",
       "28           8Zv0D      1970-09-29         FEM      Universitario\n",
       "29           abpEZ      1977-08-30        MASC      Universitario\n",
       "...            ...             ...         ...                ...\n",
       "69899      Yj5B5Yr      1995-06-02        MASC         Secundario\n",
       "69900      ow2p214             NaN  NO_DECLARA  Terciario/Técnico\n",
       "69901      96XvXe8      1995-12-14         FEM               Otro\n",
       "69902      zvabaJ8      1993-08-07         FEM      Universitario\n",
       "69903      bOjXw0V      1994-11-28         FEM         Secundario\n",
       "69904      mzdNo21      1985-11-09        MASC         Secundario\n",
       "69905      Ezem8D2      1996-06-20         FEM      Universitario\n",
       "69906      VNr0DER      1994-10-03        MASC         Secundario\n",
       "69907      X95JXrJ      1974-07-19        MASC         Secundario\n",
       "69908      xkd659j      1991-09-16         FEM               Otro\n",
       "69909      1QPMbQB      1996-03-25        MASC         Secundario\n",
       "69910      VNr0DvD      1975-05-20         FEM  Terciario/Técnico\n",
       "69911      pzdkxGZ      1976-04-25        MASC         Secundario\n",
       "69912      pzdkx4b      1994-07-02        MASC      Universitario\n",
       "69913      RzrQvko      1998-06-30        MASC         Secundario\n",
       "69914      3NP0EjP      1998-03-06        MASC         Secundario\n",
       "69915      VNr0Ddz      1981-08-08        MASC         Secundario\n",
       "69916      kPjREvV      1994-05-07         FEM         Secundario\n",
       "69917      ZDr9XxP      1997-07-30        MASC         Secundario\n",
       "69918      lDLj9VR      1999-12-24         FEM         Secundario\n",
       "69919      rmdlBxx      1999-06-16         FEM         Secundario\n",
       "69920      qe21A9X      1997-08-15        MASC         Secundario\n",
       "69921      8MPox8j      1995-08-04        MASC         Secundario\n",
       "69922      8MPoxGz      1999-03-24         FEM         Secundario\n",
       "69923      ow2p8Wr      1997-01-05         FEM         Secundario\n",
       "69924      pzdkx1p      1997-10-02        MASC         Secundario\n",
       "69925      akjVlK9      1988-05-31         FEM         Secundario\n",
       "69926      ow2p8vk      1990-03-21         FEM         Secundario\n",
       "69927      mzdNorY             NaN         FEM         Secundario\n",
       "69928      8MPoxDW      1997-07-07        MASC         Secundario\n",
       "\n",
       "[69929 rows x 4 columns]"
      ]
     },
     "execution_count": 110,
     "metadata": {},
     "output_type": "execute_result"
    }
   ],
   "source": [
    "def generar_nivel_educativo(postulantes, educacion):\n",
    "    #Considero como nivel educativo el maximo nivel que alcanzaron que fue completado.\n",
    "    #Descarto estudios en curso o abandonados, quizas deba volver aca en algun momento\n",
    "    tipo_estudio = CategoricalDtype(\n",
    "        categories=[\"Otro\",\"Secundario\",\"Terciario/Técnico\",\"Universitario\",\"Posgrado\",\"Master\",\"Doctorado\"],\n",
    "        ordered=True\n",
    "    )\n",
    "    educacion = educacion[educacion.estado=='Graduado'].drop(['estado'],1)\n",
    "    educacion.nombre= educacion.nombre.astype(tipo_estudio)\n",
    "    educacion = educacion.sort_values(by='nombre',ascending=True)\n",
    "    educacion = educacion.drop_duplicates(subset='idpostulante',keep='last')\n",
    "    postulantes = postulantes.merge(educacion, on='idpostulante')\n",
    "    postulantes = postulantes.rename(index=str,columns={'nombre':'nivel_educativo'})\n",
    "    return postulantes.copy()\n",
    "postulantes = generar_nivel_educativo(genero_edad_postulantes, educacion_postulantes)"
   ]
  },
  {
   "cell_type": "code",
   "execution_count": null,
   "metadata": {},
   "outputs": [],
   "source": [
    "# Hay ids de postulantes duplicados, lo que es consistente con que un postulante tenga en su perfil\n",
    "# por ejemplo, un estudio universitario en curso y un estudio secundario completo\n",
    "educacion_postulantes.duplicated(subset = 'idpostulante').any()"
   ]
  },
  {
   "cell_type": "markdown",
   "metadata": {},
   "source": [
    "## Archivo 'vistas'"
   ]
  },
  {
   "cell_type": "code",
   "execution_count": null,
   "metadata": {},
   "outputs": [],
   "source": [
    "vistas.head()\n",
    "# Plantea la relación entre postulantes y avisos"
   ]
  },
  {
   "cell_type": "code",
   "execution_count": null,
   "metadata": {},
   "outputs": [],
   "source": [
    "vistas.isnull().any()"
   ]
  },
  {
   "cell_type": "code",
   "execution_count": null,
   "metadata": {},
   "outputs": [],
   "source": [
    "vistas.duplicated().any()"
   ]
  },
  {
   "cell_type": "markdown",
   "metadata": {},
   "source": [
    "## Arichivo 'avisos_online'"
   ]
  },
  {
   "cell_type": "code",
   "execution_count": null,
   "metadata": {},
   "outputs": [],
   "source": [
    "avisos_online.isnull().any()"
   ]
  },
  {
   "cell_type": "code",
   "execution_count": null,
   "metadata": {},
   "outputs": [],
   "source": [
    "avisos_online.duplicated().any()"
   ]
  },
  {
   "cell_type": "markdown",
   "metadata": {},
   "source": [
    "# Algunas exploraciones de cada archivo por separado"
   ]
  },
  {
   "cell_type": "code",
   "execution_count": null,
   "metadata": {},
   "outputs": [],
   "source": [
    "#Distribución de las postulaciones por dia del mes\n",
    "g_day = pd.to_datetime(postulaciones['date']).dt.day.hist(bins=31,edgecolor='black');\n",
    "g_day.set_title('Disitribucion de las postulaciones por día del mes',fontsize=15)\n",
    "g_day.set_xlabel('Dia')\n",
    "g_day.set_ylabel('Cantidad de postulaciones');"
   ]
  },
  {
   "cell_type": "code",
   "execution_count": null,
   "metadata": {},
   "outputs": [],
   "source": [
    "# ¿Será que uno se pone a buscar trabajo cuando se le empieza a acabar el sueldo?\n",
    "g_day = pd.to_datetime(postulaciones['date']).dt.day.hist(bins=4,edgecolor='black');"
   ]
  },
  {
   "cell_type": "code",
   "execution_count": null,
   "metadata": {},
   "outputs": [],
   "source": [
    "enero = postulaciones['date'][pd.to_datetime(postulaciones['date']).dt.month == 1]\n",
    "enero = pd.DataFrame(enero)\n",
    "\n",
    "febrero = postulaciones['date'][pd.to_datetime(postulaciones['date']).dt.month == 2]\n",
    "febrero = pd.DataFrame(febrero)\n",
    "\n",
    "sizes = [enero.count(),febrero.count()]\n",
    "names = ['Enero', 'Febrero']\n",
    "\n",
    "plt.figure(figsize=(3, 3))\n",
    "plt.title('Distribucion de las postulaciones por mes', fontsize=15)\n",
    "plt.pie(sizes, labels=names, autopct='%1.1f%%', startangle=90, colors=['green', 'lightblue'], explode=(0.1, 0),shadow=True)\n",
    "plt.show()"
   ]
  },
  {
   "cell_type": "code",
   "execution_count": null,
   "metadata": {},
   "outputs": [],
   "source": [
    "# ¡Los datos empiezan a partir del 15/1!\n",
    "postulaciones['date'].min()"
   ]
  },
  {
   "cell_type": "markdown",
   "metadata": {},
   "source": [
    "Ambos graficos son engañosos.\n",
    "El primero muestra que hay mas postulaciones en la segunda mitad de los meses pero eso es porque los datos de Enero son solo de la segunda mitad del mes.\n",
    "De igual manera el sugundo grafico muestra que Enero tiene practicamente la mitad de postulaciones que Febrero.\n",
    "Tambien se debe a lo comentado anteriormente, solo hay datos de la segunda mitad de Enero."
   ]
  },
  {
   "cell_type": "code",
   "execution_count": null,
   "metadata": {},
   "outputs": [],
   "source": [
    "#Febrero tiene (casi)los dias completos\n",
    "febrero = postulaciones['date'][pd.to_datetime(postulaciones['date']).dt.month == 2]\n",
    "febrero = pd.DataFrame(febrero.unique()).sort_values(by=0, ascending=False)\n",
    "febrero"
   ]
  },
  {
   "cell_type": "code",
   "execution_count": null,
   "metadata": {},
   "outputs": [],
   "source": [
    "g_month_enero = pd.to_datetime(postulaciones['date'][pd.to_datetime(postulaciones['date']).dt.month == 1]).dt.day.hist(bins=17,edgecolor='black');\n",
    "g_month_enero.set_title('Distribucion de postulaciones durante Enero',fontsize=15)\n",
    "g_month_enero.set_xlabel('Dias')\n",
    "g_month_enero.set_ylabel('Cantidad de postulaciones');"
   ]
  },
  {
   "cell_type": "code",
   "execution_count": null,
   "metadata": {},
   "outputs": [],
   "source": [
    "g_month_febrero = pd.to_datetime(postulaciones['date'][pd.to_datetime(postulaciones['date']).dt.month == 2]).dt.day.hist(bins=28,edgecolor='black');\n",
    "g_month_febrero.set_title('Distribucion de postulaciones durante Febrero',fontsize=15)\n",
    "g_month_febrero.set_xlabel('Dias')\n",
    "g_month_febrero.set_ylabel('Cantidad de postulaciones');"
   ]
  },
  {
   "cell_type": "markdown",
   "metadata": {},
   "source": [
    "Ambos gráficos presentan 'bajones' de 2-3 días de duración: ¿Son fines de semana"
   ]
  },
  {
   "cell_type": "code",
   "execution_count": null,
   "metadata": {},
   "outputs": [],
   "source": [
    "postulaciones['weekday']= pd.to_datetime(postulaciones['date']).dt.dayofweek\n",
    "days = ['lunes','martes','miercoles','jueves','viernes','sabado','domingo']\n",
    "postulaciones['weekday'] = pd.Categorical(values=postulaciones['weekday'].values, ordered=True).rename_categories(days)\n",
    "postulaciones['weekday'].value_counts().sort_index().plot(kind='bar', title='Postulaciones por dia de semana')\n",
    "# Al hacer el gráfico, podemos ver que los fines de semana tienen muchas menos postulaciones\n",
    "# y que jueves y viernes son los dias de la semana con menos postulaciones."
   ]
  },
  {
   "cell_type": "code",
   "execution_count": null,
   "metadata": {},
   "outputs": [],
   "source": [
    "#este df contiene solo los dias entre el 15 y 28 de cada mes\n",
    "enero_febrero_igual_dias = pd.DataFrame(columns = ['date'])\n",
    "enero_febrero_igual_dias['date'] = postulaciones['date'][(pd.to_datetime(postulaciones['date']).dt.day > 14) & (pd.to_datetime(postulaciones['date']).dt.day < 29)]"
   ]
  },
  {
   "cell_type": "code",
   "execution_count": null,
   "metadata": {},
   "outputs": [],
   "source": [
    "hist_enero_edit = pd.to_datetime(enero_febrero_igual_dias['date'][pd.to_datetime(enero_febrero_igual_dias['date']).dt.month == 1]).dt.day.hist(bins=13,color= 'lightgreen');\n",
    "hist_enero_edit.set_title('Distribucion de postulaciones durante Enero(15-28)',fontsize=15)\n",
    "hist_enero_edit.set_xlabel('Dias')\n",
    "hist_enero_edit.set_ylabel('Cantidad de postulaciones');"
   ]
  },
  {
   "cell_type": "code",
   "execution_count": null,
   "metadata": {},
   "outputs": [],
   "source": [
    "hist_Febrero_edit = pd.to_datetime(enero_febrero_igual_dias['date'][pd.to_datetime(enero_febrero_igual_dias['date']).dt.month == 2]).dt.day.hist(bins=13,color='lightblue');\n",
    "hist_Febrero_edit.set_title('Distribucion de postulaciones durante Febrero(15-28)',fontsize=15)\n",
    "hist_Febrero_edit.set_xlabel('Dias')\n",
    "hist_Febrero_edit.set_ylabel('Cantidad de postulaciones');"
   ]
  },
  {
   "cell_type": "code",
   "execution_count": null,
   "metadata": {
    "scrolled": true
   },
   "outputs": [],
   "source": [
    "plt.hist(pd.to_datetime(enero_febrero_igual_dias['date']\n",
    "        [pd.to_datetime(enero_febrero_igual_dias['date']).dt.month == 2]).dt.day, bins=13,\n",
    "         color='lightblue',label= 'Febrero')\n",
    "plt.hist(pd.to_datetime(enero_febrero_igual_dias['date']\n",
    "        [pd.to_datetime(enero_febrero_igual_dias['date']).dt.month == 1]).dt.day,bins=13,\n",
    "         color='violet',alpha=0.5, label='Enero')\n",
    "plt.xlabel('Fechas')\n",
    "plt.ylabel('Cantidad de postulaciones')\n",
    "plt.title('Distribucion de las postulaciones entre el 15 y 28 de cada mes')\n",
    "plt.legend()\n",
    "plt.show()"
   ]
  },
  {
   "cell_type": "markdown",
   "metadata": {},
   "source": [
    "De esta última comparación se aprecia que el número de postulaciones es en general\n",
    "mayor para febrero, y que el último día de febrero presenta un pico muy alto en \n",
    "las postulaciones."
   ]
  },
  {
   "cell_type": "code",
   "execution_count": null,
   "metadata": {},
   "outputs": [],
   "source": [
    "educacion_postulantes.head()"
   ]
  },
  {
   "cell_type": "code",
   "execution_count": null,
   "metadata": {},
   "outputs": [],
   "source": [
    "post_educ_estado = educacion_postulantes['estado'].value_counts().sort_index().plot(kind='bar')\n",
    "post_educ_estado.set_title('Distribucion de postulaciones segun estado de la Educacion',fontsize=15)\n",
    "post_educ_estado.set_xlabel('Estado')\n",
    "post_educ_estado.set_ylabel('Cantidad de postulaciones');"
   ]
  },
  {
   "cell_type": "code",
   "execution_count": null,
   "metadata": {},
   "outputs": [],
   "source": [
    "post_educ_carrera = np.log(educacion_postulantes['nombre'].value_counts() + 1).plot(kind='barh')\n",
    "post_educ_carrera.set_title('Distribucion de postulaciones (log) segun la carrera',fontsize=15)\n",
    "post_educ_carrera.set_ylabel('Nombre de la carrera')\n",
    "post_educ_carrera.set_xlabel('Cantidad de postulaciones (log)');"
   ]
  },
  {
   "cell_type": "code",
   "execution_count": null,
   "metadata": {
    "scrolled": false
   },
   "outputs": [],
   "source": [
    "estado_y_carreras = educacion_postulantes[['nombre','estado']]\n",
    "benchs_number = 7\n",
    "benchs_names = ['Doctorado','Master','Otro','Posgrado','Secundario', 'Terciario/Tecnico','Universitario']\n",
    "\n",
    "arch_en_curso = estado_y_carreras[estado_y_carreras['estado'] == 'En Curso']\n",
    "arch_graduado = estado_y_carreras[estado_y_carreras['estado'] == 'Graduado']\n",
    "arch_abandonado = estado_y_carreras[estado_y_carreras['estado'] == 'Abandonado']\n",
    "\n",
    "#Uso una escala logaritmica asi se pueden ver mejor los datos en el grafico\n",
    "en_curso = np.log(arch_en_curso['nombre'].value_counts() +1).sort_index()\n",
    "abandonado = np.log(arch_abandonado['nombre'].value_counts() +1).sort_index()\n",
    "graduado = np.log(arch_graduado['nombre'].value_counts() +1).sort_index()\n",
    "\n",
    "index = np.arange(len(benchs_names))\n",
    "\n",
    "bar_width = 0.2\n",
    "opacity = 0.5\n",
    "\n",
    "#plt.barh(index, en_curso, bar_width, alpha=0.7,color='y',label='En Curso')\n",
    "plt.barh(index+bar_width, abandonado, bar_width, alpha=0.7,color='r',label='Abandonado')\n",
    "plt.barh(index+2*bar_width, graduado, bar_width, alpha=0.7,color='g',label='Graduado')\n",
    "\n",
    "plt.grid(True, axis='x', linewidth=0.2)\n",
    "plt.title('Distribucion de postulaciones (log) segun el estado de cada carrera',fontsize = 15)\n",
    "plt.ylabel('Carreras')\n",
    "plt.xlabel('Cantidad de postulaciones (log)')\n",
    "plt.yticks(index + 2*bar_width, benchs_names)\n",
    "plt.legend()\n",
    "\n",
    "plt.tight_layout()\n",
    "plt.show()"
   ]
  },
  {
   "cell_type": "code",
   "execution_count": null,
   "metadata": {
    "scrolled": true
   },
   "outputs": [],
   "source": [
    "\n",
    "genero_edad_postulantes['edad'] = pd.to_datetime(genero_edad_postulantes['fechanacimiento'],errors='coerce').dt.year\n",
    "genero_edad_postulantes['edad'] = 2018 - genero_edad_postulantes['edad']\n",
    "genero_edad_postulantes.sort_values(by='edad', ascending=True)"
   ]
  },
  {
   "cell_type": "code",
   "execution_count": null,
   "metadata": {
    "scrolled": true
   },
   "outputs": [],
   "source": [
    "genero_edad_postulantes.fillna(0)\n",
    "edad_postulantes = pd.DataFrame(columns=['edad'])\n",
    "edad_postulantes['edad'] = genero_edad_postulantes['edad'][(genero_edad_postulantes['edad'] > 17) & (genero_edad_postulantes['edad'] < 71)]\n",
    "edad_postulantes['edad'] = edad_postulantes['edad'].astype(int)\n",
    "edad_postulantes.sort_values(by='edad', ascending = True)"
   ]
  },
  {
   "cell_type": "code",
   "execution_count": null,
   "metadata": {},
   "outputs": [],
   "source": [
    "genero_edad_postulantes = genero_edad_postulantes.fillna(0)\n",
    "genero_edad_postulantes['edad'] = genero_edad_postulantes['edad'].astype(int)\n",
    "genero_edad_postulantes = genero_edad_postulantes[(genero_edad_postulantes['edad'] <71) & (genero_edad_postulantes['edad'] > 17)]\n",
    "genero_edad_postulantes.head()"
   ]
  },
  {
   "cell_type": "code",
   "execution_count": null,
   "metadata": {},
   "outputs": [],
   "source": [
    "post_genero = genero_edad_postulantes['sexo'].value_counts().plot(kind='barh')\n",
    "post_genero.set_title('Distribucion de postulaciones segun el genero',fontsize=15)\n",
    "post_genero.set_ylabel('Genero')\n",
    "post_genero.set_xlabel('Cantidad de postulaciones');"
   ]
  },
  {
   "cell_type": "code",
   "execution_count": null,
   "metadata": {},
   "outputs": [],
   "source": [
    "post_edad = edad_postulantes['edad'].value_counts().sort_index().plot(kind='line',color='green')\n",
    "post_edad.set_title('Distribucion de postulaciones segun la edad de los postulantes',fontsize=15)\n",
    "post_edad.set_xlabel('Edad')\n",
    "post_edad.set_ylabel('Cantidad de postulaciones');\n",
    "\n"
   ]
  },
  {
   "cell_type": "code",
   "execution_count": null,
   "metadata": {},
   "outputs": [],
   "source": [
    "femenino = pd.DataFrame(columns = ['genero','edad'])\n",
    "masculino = pd.DataFrame(columns = ['genero','edad'])\n",
    "no_declara = pd.DataFrame(columns = ['genero','edad'])\n",
    "\n",
    "femenino = genero_edad_postulantes[genero_edad_postulantes['sexo'] == 'FEM']\n",
    "masculino = genero_edad_postulantes[genero_edad_postulantes['sexo'] == 'MASC']\n",
    "no_declara = genero_edad_postulantes[genero_edad_postulantes['sexo'] == 'NO_DECLARA']\n",
    "\n",
    "#plt.hist(femenino['edad'], bins=53, color='pink',label= 'Postulantes Fememinas')\n",
    "#plt.hist(masculino['edad'], bins=53, color='darkblue',alpha=0.3, label='Postulantes Masculinos')\n",
    "#plt.hist(no_declara['edad'], bins=53, color='red',alpha=0.5, label='Postulantes sin sexo declarado')\n",
    "\n",
    "plt.xlabel('Edad')\n",
    "plt.ylabel('Cantidad de postulaciones')\n",
    "plt.title('Distribucion de las postulaciones segun edad y el genero')\n",
    "plt.legend()\n",
    "plt.show()"
   ]
  },
  {
   "cell_type": "code",
   "execution_count": null,
   "metadata": {},
   "outputs": [],
   "source": [
    "#Cantidad de postulaciones de personas que no declaran su sexo segun su edad.\n",
    "no_declara['edad'].value_counts().head()"
   ]
  },
  {
   "cell_type": "code",
   "execution_count": null,
   "metadata": {},
   "outputs": [],
   "source": [
    "avisos_detalle.head()"
   ]
  },
  {
   "cell_type": "code",
   "execution_count": null,
   "metadata": {},
   "outputs": [],
   "source": [
    "#avisos_nivel_laboral = avisos_detalle['nivel_laboral'].value_counts().plot(kind='bar')\n",
    "#avisos_nivel_laboral.set_title('Distribucion de los avisos laborales segun el nivel laboral pedido',fontsize=15)\n",
    "#avisos_nivel_laboral.set_xlabel('Cantidad de avisos')\n",
    "#avisos_nivel_laboral.set_ylabel('Nivel laboral');\n",
    "\n",
    "avisos_detalle['nivel_laboral'].value_counts()"
   ]
  },
  {
   "cell_type": "code",
   "execution_count": null,
   "metadata": {},
   "outputs": [],
   "source": [
    "avisos_tipo_de_trabajo = np.log(avisos_detalle['tipo_de_trabajo'].value_counts()+1).plot(kind='barh')\n",
    "avisos_tipo_de_trabajo.set_title('Distribucion de los avisos (log) laborales segun el tipo de trabajo pedido',fontsize=15)\n",
    "avisos_tipo_de_trabajo.set_ylabel('Tipo de trabajo')\n",
    "avisos_tipo_de_trabajo.set_xlabel('Cantidad de avisos (log)');\n",
    "\n",
    "avisos_detalle['tipo_de_trabajo'].value_counts().sum()"
   ]
  },
  {
   "cell_type": "code",
   "execution_count": null,
   "metadata": {},
   "outputs": [],
   "source": [
    "avisos_zona = np.log(avisos_detalle['nombre_zona'].value_counts() + 1).sort_index().plot(kind='bar')\n",
    "avisos_zona.set_title('Distribucion de los avisos laborales segun la zona de trabajo',fontsize=15)\n",
    "avisos_zona.set_xlabel('Zona')\n",
    "avisos_zona.set_ylabel('Cantidad de avisos (log)');\n",
    "\n",
    "avisos_detalle['nombre_zona'].value_counts()"
   ]
  },
  {
   "cell_type": "markdown",
   "metadata": {},
   "source": [
    "# Merge de los datos\n",
    "recuerdo la forma de los datasets"
   ]
  },
  {
   "cell_type": "code",
   "execution_count": null,
   "metadata": {},
   "outputs": [],
   "source": [
    "#vistas = vistas.set_index()\n",
    "vistas['idpostulante'].value_counts()"
   ]
  },
  {
   "cell_type": "code",
   "execution_count": null,
   "metadata": {},
   "outputs": [],
   "source": [
    "educacion_postulantes.head(15)"
   ]
  },
  {
   "cell_type": "code",
   "execution_count": null,
   "metadata": {},
   "outputs": [],
   "source": [
    "postulantes = genero_edad_postulantes.set_index('idpostulante')\n",
    "postulantes['anuncios_vistos'] = vistas['idpostulante'].value_counts()\n",
    "postulantes['anuncios_vistos'] = postulantes['anuncios_vistos'].fillna(0)\n",
    "#sobresimplificación horrible, habría que ponderar más fuerte estudios avanzados y estudios completos.\n",
    "postulantes['nivel_educativo'] = educacion_postulantes['idpostulante'].value_counts()\n",
    "\n",
    "postulantes.head(10)"
   ]
  },
  {
   "cell_type": "code",
   "execution_count": null,
   "metadata": {
    "scrolled": false
   },
   "outputs": [],
   "source": [
    "hist_educacion = postulantes['nivel_educativo'].hist(log=True, bins=9, label='cantidad de postulantes por nivel educativo')\n",
    "hist_educacion.set_title('Cantidad de postulantes por nivel educativo')\n",
    "hist_educacion.set_xlabel('Nivel educativo')\n",
    "hist_educacion.set_ylabel('Cantidad de postulantes(log)')"
   ]
  },
  {
   "cell_type": "code",
   "execution_count": null,
   "metadata": {},
   "outputs": [],
   "source": [
    "scatter_anuncios_vistos = postulantes.plot.scatter('nivel_educativo','anuncios_vistos', logy=True,alpha=0.3)\n",
    "scatter_anuncios_vistos.set_title('Cantidad de anuncios vistos por nivel educativo')\n",
    "scatter_anuncios_vistos.set_xlabel('Nivel educativo')\n",
    "scatter_anuncios_vistos.set_ylabel('Cantidad de anuncios vistos por postulante(log)')"
   ]
  },
  {
   "cell_type": "code",
   "execution_count": null,
   "metadata": {},
   "outputs": [],
   "source": [
    "bar_avg_anuncios_vistos = postulantes.groupby('nivel_educativo').agg(np.average).plot()\n",
    "bar_avg_anuncios_vistos.set_title('Promedio de anuncios vistos por nivel educativo')\n",
    "bar_avg_anuncios_vistos.set_xlabel('Nivel educativo')\n",
    "bar_avg_anuncios_vistos.set_ylabel('Promedio de anuncios vistos')\n"
   ]
  },
  {
   "cell_type": "code",
   "execution_count": null,
   "metadata": {},
   "outputs": [],
   "source": [
    "postulaciones['anuncios_vistos'] = vistas['idpostulante'].value_counts()\n",
    "postulaciones.head()"
   ]
  },
  {
   "cell_type": "code",
   "execution_count": null,
   "metadata": {},
   "outputs": [],
   "source": [
    "avisos_online.head()"
   ]
  },
  {
   "cell_type": "code",
   "execution_count": null,
   "metadata": {},
   "outputs": [],
   "source": [
    "educacion_postulantes.head()"
   ]
  },
  {
   "cell_type": "code",
   "execution_count": null,
   "metadata": {},
   "outputs": [],
   "source": [
    "#MERGE PARA VER LOS AVISOS ONLINE Y OFFLINE VISTOS POR POSTULANTES\n",
    "avisos_vistos_por_postulantes = pd.merge(vistas, genero_edad_postulantes, on='idpostulante', how='inner')\n",
    "avisos_vistos_por_postulantes.groupby('idpostulante').agg(np.sum)"
   ]
  },
  {
   "cell_type": "code",
   "execution_count": null,
   "metadata": {},
   "outputs": [],
   "source": [
    "#RENOMBRO LA COLUMNA 'idAviso' DEL DF VISTAS PARA QUE COINCIDA CON EL DE AVISOS_ONLINE\n",
    "vistas = vistas.rename(columns={'idAviso':'idaviso'})"
   ]
  },
  {
   "cell_type": "code",
   "execution_count": null,
   "metadata": {},
   "outputs": [],
   "source": [
    "#HAGO UN MERGE PARA VER SOLO LOS AVISOS ONLINE QUE HALLAN SIDO VISTOS\n",
    "avisos_online_vistos = pd.merge(vistas, avisos_online, on='idaviso', how='inner')"
   ]
  },
  {
   "cell_type": "code",
   "execution_count": null,
   "metadata": {},
   "outputs": [],
   "source": [
    "#Hacer un merge con con los datos de el estado de las carreras y los sexos\n",
    "postulantes_educacion_genero = pd.merge(genero_edad_postulantes, educacion_postulantes, on='idpostulante', how='inner')\n",
    "postulantes_educacion_genero.head()"
   ]
  }
 ],
 "metadata": {
  "kernelspec": {
   "display_name": "Python 3",
   "language": "python",
   "name": "python3"
  },
  "language_info": {
   "codemirror_mode": {
    "name": "ipython",
    "version": 3
   },
   "file_extension": ".py",
   "mimetype": "text/x-python",
   "name": "python",
   "nbconvert_exporter": "python",
   "pygments_lexer": "ipython3",
   "version": "3.6.5"
  }
 },
 "nbformat": 4,
 "nbformat_minor": 2
}
